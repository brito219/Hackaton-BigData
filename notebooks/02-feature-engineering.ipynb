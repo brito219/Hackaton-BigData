{
 "cells": [
  {
   "cell_type": "code",
   "execution_count": 1,
   "id": "f66134d6",
   "metadata": {},
   "outputs": [
    {
     "name": "stderr",
     "output_type": "stream",
     "text": [
      "WARNING: Using incubator modules: jdk.incubator.vector\n",
      "Using Spark's default log4j profile: org/apache/spark/log4j2-defaults.properties\n",
      "25/09/19 01:07:51 WARN Utils: Your hostname, DESKTOP-GV5311B, resolves to a loopback address: 127.0.1.1; using 172.19.89.69 instead (on interface eth0)\n",
      "25/09/19 01:07:51 WARN Utils: Set SPARK_LOCAL_IP if you need to bind to another address\n",
      "Using Spark's default log4j profile: org/apache/spark/log4j2-defaults.properties\n",
      "Setting default log level to \"WARN\".\n",
      "To adjust logging level use sc.setLogLevel(newLevel). For SparkR, use setLogLevel(newLevel).\n",
      "25/09/19 01:07:53 WARN NativeCodeLoader: Unable to load native-hadoop library for your platform... using builtin-java classes where applicable\n",
      "25/09/19 01:07:54 WARN Utils: Service 'SparkUI' could not bind on port 4040. Attempting port 4041.\n",
      "                                                                                \r"
     ]
    },
    {
     "name": "stdout",
     "output_type": "stream",
     "text": [
      "root\n",
      " |-- internal_store_id: string (nullable = true)\n",
      " |-- internal_product_id: string (nullable = true)\n",
      " |-- distributor_id: string (nullable = true)\n",
      " |-- transaction_date: date (nullable = true)\n",
      " |-- reference_date: date (nullable = true)\n",
      " |-- quantity: integer (nullable = true)\n",
      " |-- gross_value: double (nullable = true)\n",
      " |-- net_value: double (nullable = true)\n",
      " |-- gross_profit: double (nullable = true)\n",
      " |-- discount: double (nullable = true)\n",
      " |-- taxes: double (nullable = true)\n",
      " |-- categoria_produto: string (nullable = true)\n",
      " |-- descricao: string (nullable = true)\n",
      " |-- tipos: string (nullable = true)\n",
      " |-- label: string (nullable = true)\n",
      " |-- subcategoria: string (nullable = true)\n",
      " |-- marca: string (nullable = true)\n",
      " |-- fabricante: string (nullable = true)\n",
      " |-- premise: string (nullable = true)\n",
      " |-- categoria_pdv: string (nullable = true)\n",
      " |-- zipcode: integer (nullable = true)\n",
      " |-- quantity_tratada: double (nullable = true)\n",
      "\n"
     ]
    },
    {
     "name": "stderr",
     "output_type": "stream",
     "text": [
      "[Stage 2:============================================>              (3 + 1) / 4]\r"
     ]
    },
    {
     "name": "stdout",
     "output_type": "stream",
     "text": [
      "+-------------------+-------------------+--------------+----------------+--------------+--------+------------------+------------------+------------------+------------------+-------------------+-----------------+----------------------------------------+-----------------+---------+-------------------+-----------------------------------------+---------------------+-----------+--------------+-------+----------------+\n",
      "|internal_store_id  |internal_product_id|distributor_id|transaction_date|reference_date|quantity|gross_value       |net_value         |gross_profit      |discount          |taxes              |categoria_produto|descricao                               |tipos            |label    |subcategoria       |marca                                    |fabricante           |premise    |categoria_pdv |zipcode|quantity_tratada|\n",
      "+-------------------+-------------------+--------------+----------------+--------------+--------+------------------+------------------+------------------+------------------+-------------------+-----------------+----------------------------------------+-----------------+---------+-------------------+-----------------------------------------+---------------------+-----------+--------------+-------+----------------+\n",
      "|7384367747233276219|328903483604537190 |9             |2022-07-13      |2022-07-01    |1       |38.125            |37.890625         |10.042625427246094|3.950000047683716 |0.234375           |Package          |BUD LIGHT CHELADA FUEGO 15/25 CN        |Package          |Core     |Specialty          |Bud Light Chelada Fuego                  |AB Anheuser Busch Inc|Off Premise|Package/Liquor|80905  |1.0             |\n",
      "|3536908514005606262|5418855670645487653|5             |2022-03-21      |2022-03-01    |6       |107.25            |106.44000244140625|24.73200225830078 |17.100000381469727|0.8100000023841858 |Package          |MICHELOB ULTRA 18/12 CN                 |Package          |Core     |Lager              |Michelob Ultra                           |AB Anheuser Busch Inc|Off Premise|Package/Liquor|80239  |6.0             |\n",
      "|3138231730993449825|1087005562675741887|6             |2022-09-06      |2022-09-01    |3       |56.625            |56.220001220703125|14.124001502990723|5.25              |0.4050000011920929 |Package          |BUD LIGHT LIME 18/12 CN                 |Package          |Core     |Lager              |Bud Light Lime                           |AB Anheuser Busch Inc|Off Premise|Package/Liquor|80634  |3.0             |\n",
      "|3681167389484217654|1401422983880045188|5             |2022-09-11      |2022-09-01    |129     |1037.1600227355957|1037.1600227355957|156.3480257987976 |479.880006313324  |0.0                |Distilled Spirits|99 BUTTERSCOTCH 12/10/50ML 99PF         |Allocated Spirits|NULL     |Liqueurs & Cordials|99 Butterscotch                          |Sazerac Spirits      |Off Premise|Package/Liquor|80226  |89.0            |\n",
      "|7762413312337359369|6614994347738381720|4             |2022-02-18      |2022-02-01    |1       |26.229999542236328|23.950241088867188|6.550240993499756 |0.0               |2.2797579765319824 |Package          |NB VOODOO RANGER IMPERIAL IPA 15/19.2 CN|Package          |Core     |IPA                |New Belgium Voodoo Ranger Imperial IPA   |NB New Belgium       |Off Premise|Convenience   |30096  |1.0             |\n",
      "|5871504315270136638|3553055402616033444|10            |2022-09-11      |2022-09-01    |48      |239.52000427246094|239.52000427246094|37.839988708496094|47.040000915527344|0.0                |Distilled Spirits|CRYSTAL PALACE DELUXE GIN 12/1L 80PF    |Distilled Spirits|NULL     |Gin                |Crystal Palace Gin                       |Sazerac Spirits      |On Premise |Bar           |81122  |48.0            |\n",
      "|1027356552181929439|576514643033029430 |4             |2022-10-04      |2022-10-01    |7       |153.75499725341797|133.80711364746094|40.51811218261719 |23.449999809265137|19.94788646697998  |Package          |BUSCH 30/12 CN                          |Package          |Core     |Lager              |Busch                                    |AB Anheuser Busch Inc|Off Premise|Super Center  |30720  |7.0             |\n",
      "|6652651222667566690|2811937796518769916|5             |2022-09-11      |2022-09-01    |45      |2035.279598236084 |2035.279598236084 |517.2799386978149 |123.6399712562561 |0.0                |Distilled Spirits|BLANTON'S BOURBON 6/750ML 93PF          |Distilled Spirits|Allocated|Bourbon Whiskey    |Blanton Kentucky Straight Bourbon Whiskey|Sazerac Spirits      |Off Premise|Package/Liquor|80224  |45.0            |\n",
      "|7752780566579715772|5418855670645487653|4             |2022-06-21      |2022-06-01    |12      |223.70399856567383|203.1861686706543 |54.818169593811035|15.599999904632568|20.517828226089478 |Package          |MICHELOB ULTRA 18/12 CN                 |Package          |Core     |Lager              |Michelob Ultra                           |AB Anheuser Busch Inc|Off Premise|Package/Liquor|30107  |12.0            |\n",
      "|5339226423887032797|2126695985526201979|5             |2022-10-06      |2022-10-01    |1       |42.79999923706055 |42.619998931884766|12.772998809814453|6.179999828338623 |0.18000000715255737|Package          |10 BARREL CUCUMBER CRUSH 4/6/12 CN      |Package          |Core     |Sour               |10 Barrel Crush Cucumber Sour            |Tilray Brands        |Off Premise|Package/Liquor|80232  |1.0             |\n",
      "+-------------------+-------------------+--------------+----------------+--------------+--------+------------------+------------------+------------------+------------------+-------------------+-----------------+----------------------------------------+-----------------+---------+-------------------+-----------------------------------------+---------------------+-----------+--------------+-------+----------------+\n",
      "only showing top 10 rows\n"
     ]
    },
    {
     "name": "stderr",
     "output_type": "stream",
     "text": [
      "                                                                                \r"
     ]
    }
   ],
   "source": [
    "from pyspark.sql import SparkSession\n",
    "\n",
    "spark = SparkSession.builder.appName(\"PrevisaoVendasHackathon\").getOrCreate()\n",
    "\n",
    "df_tratado = spark.read.parquet(\"dados_processados/dados_tratados.parquet\")\n",
    "\n",
    "df_tratado.printSchema()\n",
    "df_tratado.show(10, truncate=False)\n"
   ]
  },
  {
   "cell_type": "markdown",
   "id": "5020732d",
   "metadata": {},
   "source": [
    "Inicio do feature de agregação por semana: criação de colunas de ano e semana"
   ]
  },
  {
   "cell_type": "code",
   "execution_count": 2,
   "id": "258d838c",
   "metadata": {},
   "outputs": [
    {
     "name": "stderr",
     "output_type": "stream",
     "text": [
      "[Stage 4:============================================>              (3 + 1) / 4]\r"
     ]
    },
    {
     "name": "stdout",
     "output_type": "stream",
     "text": [
      "+-------------------+-------------------+--------------+----------------+--------------+--------+------------------+------------------+------------------+------------------+------------------+-----------------+----------------------------------------+-----------------+-----+-------------------+--------------------------------------+---------------------+-----------+--------------+-------+----------------+----+------+-------------------+\n",
      "|internal_store_id  |internal_product_id|distributor_id|transaction_date|reference_date|quantity|gross_value       |net_value         |gross_profit      |discount          |taxes             |categoria_produto|descricao                               |tipos            |label|subcategoria       |marca                                 |fabricante           |premise    |categoria_pdv |zipcode|quantity_tratada|ano |semana|data_da_semana     |\n",
      "+-------------------+-------------------+--------------+----------------+--------------+--------+------------------+------------------+------------------+------------------+------------------+-----------------+----------------------------------------+-----------------+-----+-------------------+--------------------------------------+---------------------+-----------+--------------+-------+----------------+----+------+-------------------+\n",
      "|7384367747233276219|328903483604537190 |9             |2022-07-13      |2022-07-01    |1       |38.125            |37.890625         |10.042625427246094|3.950000047683716 |0.234375          |Package          |BUD LIGHT CHELADA FUEGO 15/25 CN        |Package          |Core |Specialty          |Bud Light Chelada Fuego               |AB Anheuser Busch Inc|Off Premise|Package/Liquor|80905  |1.0             |2022|28    |2022-07-11 00:00:00|\n",
      "|3536908514005606262|5418855670645487653|5             |2022-03-21      |2022-03-01    |6       |107.25            |106.44000244140625|24.73200225830078 |17.100000381469727|0.8100000023841858|Package          |MICHELOB ULTRA 18/12 CN                 |Package          |Core |Lager              |Michelob Ultra                        |AB Anheuser Busch Inc|Off Premise|Package/Liquor|80239  |6.0             |2022|12    |2022-03-21 00:00:00|\n",
      "|3138231730993449825|1087005562675741887|6             |2022-09-06      |2022-09-01    |3       |56.625            |56.220001220703125|14.124001502990723|5.25              |0.4050000011920929|Package          |BUD LIGHT LIME 18/12 CN                 |Package          |Core |Lager              |Bud Light Lime                        |AB Anheuser Busch Inc|Off Premise|Package/Liquor|80634  |3.0             |2022|36    |2022-09-05 00:00:00|\n",
      "|3681167389484217654|1401422983880045188|5             |2022-09-11      |2022-09-01    |129     |1037.1600227355957|1037.1600227355957|156.3480257987976 |479.880006313324  |0.0               |Distilled Spirits|99 BUTTERSCOTCH 12/10/50ML 99PF         |Allocated Spirits|NULL |Liqueurs & Cordials|99 Butterscotch                       |Sazerac Spirits      |Off Premise|Package/Liquor|80226  |89.0            |2022|36    |2022-09-05 00:00:00|\n",
      "|7762413312337359369|6614994347738381720|4             |2022-02-18      |2022-02-01    |1       |26.229999542236328|23.950241088867188|6.550240993499756 |0.0               |2.2797579765319824|Package          |NB VOODOO RANGER IMPERIAL IPA 15/19.2 CN|Package          |Core |IPA                |New Belgium Voodoo Ranger Imperial IPA|NB New Belgium       |Off Premise|Convenience   |30096  |1.0             |2022|7     |2022-02-14 00:00:00|\n",
      "+-------------------+-------------------+--------------+----------------+--------------+--------+------------------+------------------+------------------+------------------+------------------+-----------------+----------------------------------------+-----------------+-----+-------------------+--------------------------------------+---------------------+-----------+--------------+-------+----------------+----+------+-------------------+\n",
      "only showing top 5 rows\n"
     ]
    },
    {
     "name": "stderr",
     "output_type": "stream",
     "text": [
      "                                                                                \r"
     ]
    }
   ],
   "source": [
    "from pyspark.sql.functions import weekofyear, year, sum, col, first, date_trunc\n",
    "\n",
    "df_por_semana = df_tratado.withColumn(\"ano\", year(col(\"transaction_date\"))) \\\n",
    "    .withColumn(\"semana\", weekofyear(col(\"transaction_date\"))) \\\n",
    "    .withColumn(\"data_da_semana\", date_trunc(\"week\", col(\"transaction_date\")))\n",
    "    \n",
    "    \n",
    "df_por_semana.show(5, truncate=False)"
   ]
  },
  {
   "cell_type": "markdown",
   "id": "b5a61f5b",
   "metadata": {},
   "source": [
    "ao inves de agrupar somente o ano, semana, produt_id e store_id, perdendo todos outros dados importantes que encontramos na analise exploratoria, selecionamos os primeiros \"first\" de cada categoria que aparece.\n",
    "\n",
    "Feature de preço e valor\n",
    " Mudanças de preço (mesmo que não tenhamos dados explícitos de promoções) podem impactar a quantidade vendida. Um produto com preço médio mais alto pode ter um padrão de venda diferente de um mais barato."
   ]
  },
  {
   "cell_type": "code",
   "execution_count": 3,
   "id": "6b4a0f92",
   "metadata": {},
   "outputs": [
    {
     "name": "stdout",
     "output_type": "stream",
     "text": [
      "Amostra dos dados agregados por semana\n"
     ]
    },
    {
     "name": "stderr",
     "output_type": "stream",
     "text": [
      "[Stage 7:==============================================>           (8 + 2) / 10]\r"
     ]
    },
    {
     "name": "stdout",
     "output_type": "stream",
     "text": [
      "+----+------+-------------------+-------------------+-------------------+------------------+-------------------+-----------------+-------------------------------+-------------------------------+--------------+-------+-------------------+\n",
      "|ano |semana|data_da_semana     |internal_product_id|internal_store_id  |quantidade_semanal|valor_bruto_semanal|categoria_produto|descricao                      |marca                          |categoria_pdv |zipcode|preco_medio_semanal|\n",
      "+----+------+-------------------+-------------------+-------------------+------------------+-------------------+-----------------+-------------------------------+-------------------------------+--------------+-------+-------------------+\n",
      "|2022|1     |2022-01-03 00:00:00|1009179103632945474|1116765688108556050|1.0               |19.674999237060547 |Package          |BUSCH 4/6/16 CN                |Busch                          |Super Center  |30513  |19.674999237060547 |\n",
      "|2022|1     |2022-01-03 00:00:00|1009179103632945474|1066287066655869900|1.0               |18.075000762939453 |Package          |BUSCH 4/6/16 CN                |Busch                          |Convenience   |30720  |18.075000762939453 |\n",
      "|2022|1     |2022-01-03 00:00:00|1009179103632945474|1225904178990197216|4.0               |77.0               |Package          |BUSCH 4/6/16 CN                |Busch                          |Grocery       |30188  |19.25              |\n",
      "|2022|1     |2022-01-03 00:00:00|1009179103632945474|118775989215662653 |2.0               |39.571800231933594 |Package          |BUSCH 4/6/16 CN                |Busch                          |Convenience   |30047  |19.785900115966797 |\n",
      "|2022|1     |2022-01-03 00:00:00|1009179103632945474|1037093240482805283|1.0               |22.649999618530273 |Package          |BUSCH 4/6/16 CN                |Busch                          |Package/Liquor|80534  |22.649999618530273 |\n",
      "|2022|1     |2022-01-03 00:00:00|1009179103632945474|1246802311356281072|2.0               |39.571800231933594 |Package          |BUSCH 4/6/16 CN                |Busch                          |Convenience   |30019  |19.785900115966797 |\n",
      "|2022|1     |2022-01-03 00:00:00|1009179103632945474|1240253553839661689|7.0               |136.85000610351562 |Package          |BUSCH 4/6/16 CN                |Busch                          |Convenience   |30032  |19.550000871930802 |\n",
      "|2022|1     |2022-01-03 00:00:00|1009179103632945474|1418986803165439875|1.0               |19.785900115966797 |Package          |BUSCH 4/6/16 CN                |Busch                          |Convenience   |30096  |19.785900115966797 |\n",
      "|2022|1     |2022-01-03 00:00:00|1004943868572044494|7689267005879755757|3.0               |69.5999984741211   |Distilled Spirits|LA FAVORITE RHUM AGRICOLE BLANC|La Favorite Rhum Agricole Blanc|Restaurant    |30307  |23.1999994913737   |\n",
      "|2022|1     |2022-01-03 00:00:00|1009179103632945474|1604470660851767741|1.0               |20.450000762939453 |Package          |BUSCH 4/6/16 CN                |Busch                          |Grocery       |30189  |20.450000762939453 |\n",
      "+----+------+-------------------+-------------------+-------------------+------------------+-------------------+-----------------+-------------------------------+-------------------------------+--------------+-------+-------------------+\n",
      "only showing top 10 rows\n"
     ]
    },
    {
     "name": "stderr",
     "output_type": "stream",
     "text": [
      "                                                                                \r"
     ]
    }
   ],
   "source": [
    "df_semanal = df_por_semana.groupBy(\"ano\", \"semana\", \"data_da_semana\", \"internal_product_id\", \"internal_store_id\") \\\n",
    "    .agg(sum(\"quantity_tratada\").alias(\"quantidade_semanal\"),\n",
    "         sum(\"gross_value\").alias(\"valor_bruto_semanal\"),\n",
    "            first(\"categoria_produto\").alias(\"categoria_produto\"),\n",
    "            first(\"descricao\").alias(\"descricao\"),\n",
    "            first(\"marca\").alias(\"marca\"),\n",
    "            first(\"categoria_pdv\").alias(\"categoria_pdv\"),\n",
    "            first(\"zipcode\").alias(\"zipcode\"),\n",
    "            \n",
    "    ).orderBy(\"ano\", \"semana\")\n",
    "    \n",
    "df_com_preco = df_semanal.withColumn(\"preco_medio_semanal\", col(\"valor_bruto_semanal\") / col(\"quantidade_semanal\"))\n",
    "\n",
    "df_com_preco = df_com_preco.fillna(0, subset=[\"preco_medio_semanal\"])\n",
    "print(\"Amostra dos dados agregados por semana\")\n",
    "df_com_preco.show(10, truncate=False)"
   ]
  },
  {
   "cell_type": "markdown",
   "id": "152eff5e",
   "metadata": {},
   "source": [
    "Criação de um feature de lag - o resultado de uma semana foi indicado pela semana anterior"
   ]
  },
  {
   "cell_type": "code",
   "execution_count": 4,
   "id": "edebfee6",
   "metadata": {},
   "outputs": [
    {
     "name": "stdout",
     "output_type": "stream",
     "text": [
      "Amostra dos dados com features de lag\n"
     ]
    },
    {
     "name": "stderr",
     "output_type": "stream",
     "text": [
      "[Stage 19:>                                                         (0 + 1) / 1]\r"
     ]
    },
    {
     "name": "stdout",
     "output_type": "stream",
     "text": [
      "+----+------+-------------------+-------------------+-------------------+------------------+-------------------+-----------------+-----------------------------------------+---------------------------------------------------+-------------+-------+-------------------+---------------------+-------------------------+-------------------------+---------------------------+\n",
      "|ano |semana|data_da_semana     |internal_product_id|internal_store_id  |quantidade_semanal|valor_bruto_semanal|categoria_produto|descricao                                |marca                                              |categoria_pdv|zipcode|preco_medio_semanal|vendas_semana_passada|vendas_duas_semanas_atras|vendas_tres_semanas_atras|vendas_quatro_semanas_atras|\n",
      "+----+------+-------------------+-------------------+-------------------+------------------+-------------------+-----------------+-----------------------------------------+---------------------------------------------------+-------------+-------+-------------------+---------------------+-------------------------+-------------------------+---------------------------+\n",
      "|2022|36    |2022-09-05 00:00:00|2866058112054092230|1000275275922029725|6.0               |38.939998626708984 |Distilled Spirits|MR BOSTON PEACH SCHNAPPS 12/1L 30PF      |Mr. Boston Peach Schnapps                          |Golf - Public|81507  |6.489999771118164  |NULL                 |NULL                     |NULL                     |NULL                       |\n",
      "|2022|36    |2022-09-05 00:00:00|2982836183234975951|1000275275922029725|12.0              |56.279998779296875 |Distilled Spirits|BARTON PREMIUM VODKA 12/1L 80PF          |Barton Premium Vodka                               |Golf - Public|81507  |4.689999898274739  |NULL                 |NULL                     |NULL                     |NULL                       |\n",
      "|2022|36    |2022-09-05 00:00:00|6639182541769323770|1000275275922029725|51.0              |407.52999925613403 |Distilled Spirits|BENCHMARK NO 8 BOURBON 12/1L 80PF        |Benchmark Old No8 Kentucky Straight Bourbon Whiskey|Golf - Public|81507  |7.990784299139883  |NULL                 |NULL                     |NULL                     |NULL                       |\n",
      "|2022|36    |2022-09-05 00:00:00|97241945894293901  |1000275275922029725|3.0               |20.969999313354492 |Distilled Spirits|MR BOSTON PEPPERMINT SCHNAPPS 12/1L 30PF |Mr. Boston Peppermint Schnapps                     |Golf - Public|81507  |6.989999771118164  |NULL                 |NULL                     |NULL                     |NULL                       |\n",
      "|2022|9     |2022-02-28 00:00:00|650162054185426354 |1000285336744471896|4.0               |112.76000213623047 |Package          |BUD LIGHT SELTZER BLACK CHERRY 2/12/12 CN|Bud Light Seltzer Black Cherry                     |Theatre      |30338  |28.190000534057617 |NULL                 |NULL                     |NULL                     |NULL                       |\n",
      "|2022|2     |2022-01-10 00:00:00|1811757556461179912|1001371918471115422|1.0               |4.949999809265137  |Wine             |FLIPFLOP PINOT GRIS (BTL)                |Flipflop Pinot Gris Ol                             |Convenience  |30175  |4.949999809265137  |NULL                 |NULL                     |NULL                     |NULL                       |\n",
      "|2022|16    |2022-04-18 00:00:00|1811757556461179912|1001371918471115422|4.0               |24.600000381469727 |Wine             |FLIPFLOP PINOT GRIS (BTL)                |Flipflop Pinot Gris Ol                             |Convenience  |30175  |6.150000095367432  |1.0                  |NULL                     |NULL                     |NULL                       |\n",
      "|2022|23    |2022-06-06 00:00:00|1811757556461179912|1001371918471115422|3.0               |18.450000762939453 |Wine             |FLIPFLOP PINOT GRIS (BTL)                |Flipflop Pinot Gris Ol                             |Convenience  |30175  |6.150000254313151  |4.0                  |1.0                      |NULL                     |NULL                       |\n",
      "|2022|26    |2022-06-27 00:00:00|1811757556461179912|1001371918471115422|4.0               |24.440000534057617 |Wine             |FLIPFLOP PINOT GRIS (BTL)                |Flipflop Pinot Gris Ol                             |Convenience  |30175  |6.110000133514404  |3.0                  |4.0                      |1.0                      |NULL                       |\n",
      "|2022|34    |2022-08-22 00:00:00|1811757556461179912|1001371918471115422|3.0               |18.329999923706055 |Wine             |FLIPFLOP PINOT GRIS (BTL)                |Flipflop Pinot Gris Ol                             |Convenience  |30175  |6.109999974568685  |4.0                  |3.0                      |4.0                      |1.0                        |\n",
      "|2022|35    |2022-08-29 00:00:00|1811757556461179912|1001371918471115422|2.0               |12.300000190734863 |Wine             |FLIPFLOP PINOT GRIS (BTL)                |Flipflop Pinot Gris Ol                             |Convenience  |30175  |6.150000095367432  |3.0                  |4.0                      |3.0                      |4.0                        |\n",
      "|2022|46    |2022-11-14 00:00:00|1811757556461179912|1001371918471115422|4.0               |24.440000534057617 |Wine             |FLIPFLOP PINOT GRIS (BTL)                |Flipflop Pinot Gris Ol                             |Convenience  |30175  |6.110000133514404  |2.0                  |3.0                      |4.0                      |3.0                        |\n",
      "|2022|50    |2022-12-12 00:00:00|1811757556461179912|1001371918471115422|1.0               |6.110000133514404  |Wine             |FLIPFLOP PINOT GRIS (BTL)                |Flipflop Pinot Gris Ol                             |Convenience  |30175  |6.110000133514404  |4.0                  |2.0                      |3.0                      |4.0                        |\n",
      "|2022|51    |2022-12-19 00:00:00|1811757556461179912|1001371918471115422|1.0               |6.150000095367432  |Wine             |FLIPFLOP PINOT GRIS (BTL)                |Flipflop Pinot Gris Ol                             |Convenience  |30175  |6.150000095367432  |1.0                  |4.0                      |2.0                      |3.0                        |\n",
      "|2022|4     |2022-01-24 00:00:00|18540138743288609  |1001371918471115422|4.0               |55.0               |ABA Spirits      |SAZERAC FLASH POINT WNBS 12/100ML 42PRF  |Sazerac Flash Point                                |Convenience  |30175  |13.75              |NULL                 |NULL                     |NULL                     |NULL                       |\n",
      "|2022|7     |2022-02-14 00:00:00|18540138743288609  |1001371918471115422|5.0               |68.75              |ABA Spirits      |SAZERAC FLASH POINT WNBS 12/100ML 42PRF  |Sazerac Flash Point                                |Convenience  |30175  |13.75              |4.0                  |NULL                     |NULL                     |NULL                       |\n",
      "|2022|12    |2022-03-21 00:00:00|18540138743288609  |1001371918471115422|5.0               |82.5               |ABA Spirits      |SAZERAC FLASH POINT WNBS 12/100ML 42PRF  |Sazerac Flash Point                                |Convenience  |30175  |16.5               |5.0                  |4.0                      |NULL                     |NULL                       |\n",
      "|2022|14    |2022-04-04 00:00:00|18540138743288609  |1001371918471115422|3.0               |49.5               |ABA Spirits      |SAZERAC FLASH POINT WNBS 12/100ML 42PRF  |Sazerac Flash Point                                |Convenience  |30175  |16.5               |5.0                  |5.0                      |4.0                      |NULL                       |\n",
      "|2022|24    |2022-06-13 00:00:00|18540138743288609  |1001371918471115422|3.0               |55.04999923706055  |ABA Spirits      |SAZERAC FLASH POINT WNBS 12/100ML 42PRF  |Sazerac Flash Point                                |Convenience  |30175  |18.349999745686848 |3.0                  |5.0                      |5.0                      |4.0                        |\n",
      "|2022|25    |2022-06-20 00:00:00|18540138743288609  |1001371918471115422|5.0               |82.5               |ABA Spirits      |SAZERAC FLASH POINT WNBS 12/100ML 42PRF  |Sazerac Flash Point                                |Convenience  |30175  |16.5               |3.0                  |3.0                      |5.0                      |5.0                        |\n",
      "+----+------+-------------------+-------------------+-------------------+------------------+-------------------+-----------------+-----------------------------------------+---------------------------------------------------+-------------+-------+-------------------+---------------------+-------------------------+-------------------------+---------------------------+\n",
      "only showing top 20 rows\n"
     ]
    },
    {
     "name": "stderr",
     "output_type": "stream",
     "text": [
      "                                                                                \r"
     ]
    }
   ],
   "source": [
    "from pyspark.sql.window import Window\n",
    "from pyspark.sql.functions import lag\n",
    "\n",
    "window_spec = Window.partitionBy(\"internal_store_id\", \"internal_product_id\").orderBy(\"semana\", \"ano\")\n",
    "\n",
    "df_com_lags = df_com_preco.withColumn(\"vendas_semana_passada\", lag(\"quantidade_semanal\", 1).over(window_spec)) \\\n",
    "    .withColumn(\"vendas_duas_semanas_atras\", lag(\"quantidade_semanal\", 2).over(window_spec)) \\\n",
    "    .withColumn(\"vendas_tres_semanas_atras\", lag(\"quantidade_semanal\", 3).over(window_spec)) \\\n",
    "    .withColumn(\"vendas_quatro_semanas_atras\", lag(\"quantidade_semanal\", 4).over(window_spec)) \n",
    "    \n",
    "print(\"Amostra dos dados com features de lag\")\n",
    "df_com_lags.show(20, truncate=False) "
   ]
  },
  {
   "cell_type": "markdown",
   "id": "b78bb324",
   "metadata": {},
   "source": [
    "Feature para saber a tendencia das vendas\n",
    "\n",
    "Média (avg): Mostra a performance de vendas do último mês.\n",
    "\n",
    "Desvio Padrão (stddev): Mostra a volatilidade ou instabilidade recente. Um desvio padrão alto nas últimas 4 semanas pode indicar que o produto está em promoção, que a demanda está se tornando errática, ou que ele está começando a se tornar um sucesso de vendas."
   ]
  },
  {
   "cell_type": "code",
   "execution_count": 5,
   "id": "597e96d9",
   "metadata": {},
   "outputs": [
    {
     "name": "stdout",
     "output_type": "stream",
     "text": [
      "Amostra dos dados com features de janela móvel (rolling window): média e desvio padrão\n"
     ]
    },
    {
     "name": "stderr",
     "output_type": "stream",
     "text": [
      "[Stage 31:>                                                         (0 + 1) / 1]\r"
     ]
    },
    {
     "name": "stdout",
     "output_type": "stream",
     "text": [
      "+----+------+-------------------+-------------------+-------------------+------------------+-------------------+-----------------+-----------------------------------------+---------------------------------------------------+-------------+-------+-------------------+---------------------+-------------------------+-------------------------+---------------------------+----------------------+------------------------------+-----------------------+-------------------------------+\n",
      "|ano |semana|data_da_semana     |internal_product_id|internal_store_id  |quantidade_semanal|valor_bruto_semanal|categoria_produto|descricao                                |marca                                              |categoria_pdv|zipcode|preco_medio_semanal|vendas_semana_passada|vendas_duas_semanas_atras|vendas_tres_semanas_atras|vendas_quatro_semanas_atras|media_vendas_4_semanas|desvio_padrao_vendas_4_semanas|media_vendas_12_semanas|desvio_padrao_vendas_12_semanas|\n",
      "+----+------+-------------------+-------------------+-------------------+------------------+-------------------+-----------------+-----------------------------------------+---------------------------------------------------+-------------+-------+-------------------+---------------------+-------------------------+-------------------------+---------------------------+----------------------+------------------------------+-----------------------+-------------------------------+\n",
      "|2022|36    |2022-09-05 00:00:00|2866058112054092230|1000275275922029725|6.0               |38.939998626708984 |Distilled Spirits|MR BOSTON PEACH SCHNAPPS 12/1L 30PF      |Mr. Boston Peach Schnapps                          |Golf - Public|81507  |6.489999771118164  |NULL                 |NULL                     |NULL                     |NULL                       |NULL                  |NULL                          |NULL                   |NULL                           |\n",
      "|2022|36    |2022-09-05 00:00:00|2982836183234975951|1000275275922029725|12.0              |56.279998779296875 |Distilled Spirits|BARTON PREMIUM VODKA 12/1L 80PF          |Barton Premium Vodka                               |Golf - Public|81507  |4.689999898274739  |NULL                 |NULL                     |NULL                     |NULL                       |NULL                  |NULL                          |NULL                   |NULL                           |\n",
      "|2022|36    |2022-09-05 00:00:00|6639182541769323770|1000275275922029725|51.0              |407.52999925613403 |Distilled Spirits|BENCHMARK NO 8 BOURBON 12/1L 80PF        |Benchmark Old No8 Kentucky Straight Bourbon Whiskey|Golf - Public|81507  |7.990784299139883  |NULL                 |NULL                     |NULL                     |NULL                       |NULL                  |NULL                          |NULL                   |NULL                           |\n",
      "|2022|36    |2022-09-05 00:00:00|97241945894293901  |1000275275922029725|3.0               |20.969999313354492 |Distilled Spirits|MR BOSTON PEPPERMINT SCHNAPPS 12/1L 30PF |Mr. Boston Peppermint Schnapps                     |Golf - Public|81507  |6.989999771118164  |NULL                 |NULL                     |NULL                     |NULL                       |NULL                  |NULL                          |NULL                   |NULL                           |\n",
      "|2022|9     |2022-02-28 00:00:00|650162054185426354 |1000285336744471896|4.0               |112.76000213623047 |Package          |BUD LIGHT SELTZER BLACK CHERRY 2/12/12 CN|Bud Light Seltzer Black Cherry                     |Theatre      |30338  |28.190000534057617 |NULL                 |NULL                     |NULL                     |NULL                       |NULL                  |NULL                          |NULL                   |NULL                           |\n",
      "|2022|2     |2022-01-10 00:00:00|1811757556461179912|1001371918471115422|1.0               |4.949999809265137  |Wine             |FLIPFLOP PINOT GRIS (BTL)                |Flipflop Pinot Gris Ol                             |Convenience  |30175  |4.949999809265137  |NULL                 |NULL                     |NULL                     |NULL                       |NULL                  |NULL                          |NULL                   |NULL                           |\n",
      "|2022|16    |2022-04-18 00:00:00|1811757556461179912|1001371918471115422|4.0               |24.600000381469727 |Wine             |FLIPFLOP PINOT GRIS (BTL)                |Flipflop Pinot Gris Ol                             |Convenience  |30175  |6.150000095367432  |1.0                  |NULL                     |NULL                     |NULL                       |1.0                   |NULL                          |1.0                    |NULL                           |\n",
      "|2022|23    |2022-06-06 00:00:00|1811757556461179912|1001371918471115422|3.0               |18.450000762939453 |Wine             |FLIPFLOP PINOT GRIS (BTL)                |Flipflop Pinot Gris Ol                             |Convenience  |30175  |6.150000254313151  |4.0                  |1.0                      |NULL                     |NULL                       |2.5                   |2.1213203435596424            |2.5                    |2.1213203435596424             |\n",
      "|2022|26    |2022-06-27 00:00:00|1811757556461179912|1001371918471115422|4.0               |24.440000534057617 |Wine             |FLIPFLOP PINOT GRIS (BTL)                |Flipflop Pinot Gris Ol                             |Convenience  |30175  |6.110000133514404  |3.0                  |4.0                      |1.0                      |NULL                       |2.6666666666666665    |1.5275252316519468            |2.6666666666666665     |1.5275252316519468             |\n",
      "|2022|34    |2022-08-22 00:00:00|1811757556461179912|1001371918471115422|3.0               |18.329999923706055 |Wine             |FLIPFLOP PINOT GRIS (BTL)                |Flipflop Pinot Gris Ol                             |Convenience  |30175  |6.109999974568685  |4.0                  |3.0                      |4.0                      |1.0                        |3.0                   |1.4142135623730951            |3.0                    |1.4142135623730951             |\n",
      "+----+------+-------------------+-------------------+-------------------+------------------+-------------------+-----------------+-----------------------------------------+---------------------------------------------------+-------------+-------+-------------------+---------------------+-------------------------+-------------------------+---------------------------+----------------------+------------------------------+-----------------------+-------------------------------+\n",
      "only showing top 10 rows\n"
     ]
    },
    {
     "name": "stderr",
     "output_type": "stream",
     "text": [
      "                                                                                \r"
     ]
    }
   ],
   "source": [
    "from pyspark.sql.functions import avg, stddev\n",
    "\n",
    "windowSpec_rolling_4 = Window.partitionBy(\"internal_store_id\", \"internal_product_id\").orderBy(\"ano\", \"semana\").rowsBetween(-4, -1)\n",
    "\n",
    "windowSpec_rolling_12 = Window.partitionBy(\"internal_store_id\", \"internal_product_id\").orderBy(\"ano\", \"semana\").rowsBetween(-12, -1)\n",
    "\n",
    "df_com_rolling = df_com_lags.withColumn(\"media_vendas_4_semanas\", avg(\"quantidade_semanal\").over(windowSpec_rolling_4)) \\\n",
    "    .withColumn(\"desvio_padrao_vendas_4_semanas\", stddev(\"quantidade_semanal\").over(windowSpec_rolling_4)) \\\n",
    "    .withColumn(\"media_vendas_12_semanas\", avg(\"quantidade_semanal\").over(windowSpec_rolling_12)) \\\n",
    "    .withColumn(\"desvio_padrao_vendas_12_semanas\", stddev(\"quantidade_semanal\").over(windowSpec_rolling_12))\n",
    "    \n",
    "print(\"Amostra dos dados com features de janela móvel (rolling window): média e desvio padrão\")\n",
    "df_com_rolling.show(10, truncate=False)"
   ]
  },
  {
   "cell_type": "markdown",
   "id": "73014057",
   "metadata": {},
   "source": [
    "feature de sazonalidade "
   ]
  },
  {
   "cell_type": "code",
   "execution_count": 6,
   "id": "bb2ac0e3",
   "metadata": {},
   "outputs": [
    {
     "name": "stderr",
     "output_type": "stream",
     "text": [
      "[Stage 43:>                                                         (0 + 1) / 1]\r"
     ]
    },
    {
     "name": "stdout",
     "output_type": "stream",
     "text": [
      "+----+------+-------------------+-------------------+-------------------+------------------+-------------------+-----------------+-----------------------------------------+---------------------------------------------------+-------------+-------+-------------------+---------------------+-------------------------+-------------------------+---------------------------+----------------------+------------------------------+-----------------------+-------------------------------+---+---------+\n",
      "|ano |semana|data_da_semana     |internal_product_id|internal_store_id  |quantidade_semanal|valor_bruto_semanal|categoria_produto|descricao                                |marca                                              |categoria_pdv|zipcode|preco_medio_semanal|vendas_semana_passada|vendas_duas_semanas_atras|vendas_tres_semanas_atras|vendas_quatro_semanas_atras|media_vendas_4_semanas|desvio_padrao_vendas_4_semanas|media_vendas_12_semanas|desvio_padrao_vendas_12_semanas|mes|trimestre|\n",
      "+----+------+-------------------+-------------------+-------------------+------------------+-------------------+-----------------+-----------------------------------------+---------------------------------------------------+-------------+-------+-------------------+---------------------+-------------------------+-------------------------+---------------------------+----------------------+------------------------------+-----------------------+-------------------------------+---+---------+\n",
      "|2022|36    |2022-09-05 00:00:00|2866058112054092230|1000275275922029725|6.0               |38.939998626708984 |Distilled Spirits|MR BOSTON PEACH SCHNAPPS 12/1L 30PF      |Mr. Boston Peach Schnapps                          |Golf - Public|81507  |6.489999771118164  |0.0                  |0.0                      |0.0                      |0.0                        |0.0                   |0.0                           |0.0                    |0.0                            |9  |3        |\n",
      "|2022|36    |2022-09-05 00:00:00|2982836183234975951|1000275275922029725|12.0              |56.279998779296875 |Distilled Spirits|BARTON PREMIUM VODKA 12/1L 80PF          |Barton Premium Vodka                               |Golf - Public|81507  |4.689999898274739  |0.0                  |0.0                      |0.0                      |0.0                        |0.0                   |0.0                           |0.0                    |0.0                            |9  |3        |\n",
      "|2022|36    |2022-09-05 00:00:00|6639182541769323770|1000275275922029725|51.0              |407.52999925613403 |Distilled Spirits|BENCHMARK NO 8 BOURBON 12/1L 80PF        |Benchmark Old No8 Kentucky Straight Bourbon Whiskey|Golf - Public|81507  |7.990784299139883  |0.0                  |0.0                      |0.0                      |0.0                        |0.0                   |0.0                           |0.0                    |0.0                            |9  |3        |\n",
      "|2022|36    |2022-09-05 00:00:00|97241945894293901  |1000275275922029725|3.0               |20.969999313354492 |Distilled Spirits|MR BOSTON PEPPERMINT SCHNAPPS 12/1L 30PF |Mr. Boston Peppermint Schnapps                     |Golf - Public|81507  |6.989999771118164  |0.0                  |0.0                      |0.0                      |0.0                        |0.0                   |0.0                           |0.0                    |0.0                            |9  |3        |\n",
      "|2022|9     |2022-02-28 00:00:00|650162054185426354 |1000285336744471896|4.0               |112.76000213623047 |Package          |BUD LIGHT SELTZER BLACK CHERRY 2/12/12 CN|Bud Light Seltzer Black Cherry                     |Theatre      |30338  |28.190000534057617 |0.0                  |0.0                      |0.0                      |0.0                        |0.0                   |0.0                           |0.0                    |0.0                            |2  |1        |\n",
      "|2022|2     |2022-01-10 00:00:00|1811757556461179912|1001371918471115422|1.0               |4.949999809265137  |Wine             |FLIPFLOP PINOT GRIS (BTL)                |Flipflop Pinot Gris Ol                             |Convenience  |30175  |4.949999809265137  |0.0                  |0.0                      |0.0                      |0.0                        |0.0                   |0.0                           |0.0                    |0.0                            |1  |1        |\n",
      "|2022|16    |2022-04-18 00:00:00|1811757556461179912|1001371918471115422|4.0               |24.600000381469727 |Wine             |FLIPFLOP PINOT GRIS (BTL)                |Flipflop Pinot Gris Ol                             |Convenience  |30175  |6.150000095367432  |1.0                  |0.0                      |0.0                      |0.0                        |1.0                   |0.0                           |1.0                    |0.0                            |4  |2        |\n",
      "|2022|23    |2022-06-06 00:00:00|1811757556461179912|1001371918471115422|3.0               |18.450000762939453 |Wine             |FLIPFLOP PINOT GRIS (BTL)                |Flipflop Pinot Gris Ol                             |Convenience  |30175  |6.150000254313151  |4.0                  |1.0                      |0.0                      |0.0                        |2.5                   |2.1213203435596424            |2.5                    |2.1213203435596424             |6  |2        |\n",
      "|2022|26    |2022-06-27 00:00:00|1811757556461179912|1001371918471115422|4.0               |24.440000534057617 |Wine             |FLIPFLOP PINOT GRIS (BTL)                |Flipflop Pinot Gris Ol                             |Convenience  |30175  |6.110000133514404  |3.0                  |4.0                      |1.0                      |0.0                        |2.6666666666666665    |1.5275252316519468            |2.6666666666666665     |1.5275252316519468             |6  |2        |\n",
      "|2022|34    |2022-08-22 00:00:00|1811757556461179912|1001371918471115422|3.0               |18.329999923706055 |Wine             |FLIPFLOP PINOT GRIS (BTL)                |Flipflop Pinot Gris Ol                             |Convenience  |30175  |6.109999974568685  |4.0                  |3.0                      |4.0                      |1.0                        |3.0                   |1.4142135623730951            |3.0                    |1.4142135623730951             |8  |3        |\n",
      "+----+------+-------------------+-------------------+-------------------+------------------+-------------------+-----------------+-----------------------------------------+---------------------------------------------------+-------------+-------+-------------------+---------------------+-------------------------+-------------------------+---------------------------+----------------------+------------------------------+-----------------------+-------------------------------+---+---------+\n",
      "only showing top 10 rows\n"
     ]
    },
    {
     "name": "stderr",
     "output_type": "stream",
     "text": [
      "                                                                                \r"
     ]
    }
   ],
   "source": [
    "from pyspark.sql.functions import month, quarter\n",
    "\n",
    "df_completo_features = df_com_rolling.withColumn(\"mes\", month(col(\"data_da_semana\"))) \\\n",
    "    .withColumn(\"trimestre\", quarter(col(\"data_da_semana\")))\n",
    "\n",
    "df_completo_features = df_completo_features.fillna(0)\n",
    "df_completo_features.show(10, truncate=False)"
   ]
  },
  {
   "cell_type": "markdown",
   "id": "d585059d",
   "metadata": {},
   "source": [
    "Excelente pergunta! Vocês construíram uma base de features muito sólida com lags, janelas móveis e sazonalidade básica. Essas são as \"big three\" da previsão de séries temporais. Agora, para levar seu modelo a um nível superior, podemos adicionar features que capturam o contexto de negócio e os padrões mais sutis nos dados.\n",
    "\n"
   ]
  },
  {
   "cell_type": "code",
   "execution_count": 7,
   "metadata": {},
   "outputs": [
    {
     "name": "stdout",
     "output_type": "stream",
     "text": [
      "Amostra dos dados com features de ciclo de vida do produto na loja: semanas desde a primeira venda\n"
     ]
    },
    {
     "name": "stderr",
     "output_type": "stream",
     "text": [
      "[Stage 55:>                                                         (0 + 1) / 1]\r"
     ]
    },
    {
     "name": "stdout",
     "output_type": "stream",
     "text": [
      "+----+------+-------------------+-------------------+-------------------+------------------+-------------------+-----------------+-----------------------------------------+---------------------------------------------------+-------------+-------+-------------------+---------------------+-------------------------+-------------------------+---------------------------+----------------------+------------------------------+-----------------------+-------------------------------+---+---------+----------------------------+\n",
      "|ano |semana|data_da_semana     |internal_product_id|internal_store_id  |quantidade_semanal|valor_bruto_semanal|categoria_produto|descricao                                |marca                                              |categoria_pdv|zipcode|preco_medio_semanal|vendas_semana_passada|vendas_duas_semanas_atras|vendas_tres_semanas_atras|vendas_quatro_semanas_atras|media_vendas_4_semanas|desvio_padrao_vendas_4_semanas|media_vendas_12_semanas|desvio_padrao_vendas_12_semanas|mes|trimestre|semanas_desde_primeira_venda|\n",
      "+----+------+-------------------+-------------------+-------------------+------------------+-------------------+-----------------+-----------------------------------------+---------------------------------------------------+-------------+-------+-------------------+---------------------+-------------------------+-------------------------+---------------------------+----------------------+------------------------------+-----------------------+-------------------------------+---+---------+----------------------------+\n",
      "|2022|36    |2022-09-05 00:00:00|2866058112054092230|1000275275922029725|6.0               |38.939998626708984 |Distilled Spirits|MR BOSTON PEACH SCHNAPPS 12/1L 30PF      |Mr. Boston Peach Schnapps                          |Golf - Public|81507  |6.489999771118164  |0.0                  |0.0                      |0.0                      |0.0                        |0.0                   |0.0                           |0.0                    |0.0                            |9  |3        |0                           |\n",
      "|2022|36    |2022-09-05 00:00:00|2982836183234975951|1000275275922029725|12.0              |56.279998779296875 |Distilled Spirits|BARTON PREMIUM VODKA 12/1L 80PF          |Barton Premium Vodka                               |Golf - Public|81507  |4.689999898274739  |0.0                  |0.0                      |0.0                      |0.0                        |0.0                   |0.0                           |0.0                    |0.0                            |9  |3        |0                           |\n",
      "|2022|36    |2022-09-05 00:00:00|6639182541769323770|1000275275922029725|51.0              |407.52999925613403 |Distilled Spirits|BENCHMARK NO 8 BOURBON 12/1L 80PF        |Benchmark Old No8 Kentucky Straight Bourbon Whiskey|Golf - Public|81507  |7.990784299139883  |0.0                  |0.0                      |0.0                      |0.0                        |0.0                   |0.0                           |0.0                    |0.0                            |9  |3        |0                           |\n",
      "|2022|36    |2022-09-05 00:00:00|97241945894293901  |1000275275922029725|3.0               |20.969999313354492 |Distilled Spirits|MR BOSTON PEPPERMINT SCHNAPPS 12/1L 30PF |Mr. Boston Peppermint Schnapps                     |Golf - Public|81507  |6.989999771118164  |0.0                  |0.0                      |0.0                      |0.0                        |0.0                   |0.0                           |0.0                    |0.0                            |9  |3        |0                           |\n",
      "|2022|9     |2022-02-28 00:00:00|650162054185426354 |1000285336744471896|4.0               |112.76000213623047 |Package          |BUD LIGHT SELTZER BLACK CHERRY 2/12/12 CN|Bud Light Seltzer Black Cherry                     |Theatre      |30338  |28.190000534057617 |0.0                  |0.0                      |0.0                      |0.0                        |0.0                   |0.0                           |0.0                    |0.0                            |2  |1        |0                           |\n",
      "|2022|2     |2022-01-10 00:00:00|1811757556461179912|1001371918471115422|1.0               |4.949999809265137  |Wine             |FLIPFLOP PINOT GRIS (BTL)                |Flipflop Pinot Gris Ol                             |Convenience  |30175  |4.949999809265137  |0.0                  |0.0                      |0.0                      |0.0                        |0.0                   |0.0                           |0.0                    |0.0                            |1  |1        |0                           |\n",
      "|2022|16    |2022-04-18 00:00:00|1811757556461179912|1001371918471115422|4.0               |24.600000381469727 |Wine             |FLIPFLOP PINOT GRIS (BTL)                |Flipflop Pinot Gris Ol                             |Convenience  |30175  |6.150000095367432  |1.0                  |0.0                      |0.0                      |0.0                        |1.0                   |0.0                           |1.0                    |0.0                            |4  |2        |14                          |\n",
      "|2022|23    |2022-06-06 00:00:00|1811757556461179912|1001371918471115422|3.0               |18.450000762939453 |Wine             |FLIPFLOP PINOT GRIS (BTL)                |Flipflop Pinot Gris Ol                             |Convenience  |30175  |6.150000254313151  |4.0                  |1.0                      |0.0                      |0.0                        |2.5                   |2.1213203435596424            |2.5                    |2.1213203435596424             |6  |2        |21                          |\n",
      "|2022|26    |2022-06-27 00:00:00|1811757556461179912|1001371918471115422|4.0               |24.440000534057617 |Wine             |FLIPFLOP PINOT GRIS (BTL)                |Flipflop Pinot Gris Ol                             |Convenience  |30175  |6.110000133514404  |3.0                  |4.0                      |1.0                      |0.0                        |2.6666666666666665    |1.5275252316519468            |2.6666666666666665     |1.5275252316519468             |6  |2        |24                          |\n",
      "|2022|34    |2022-08-22 00:00:00|1811757556461179912|1001371918471115422|3.0               |18.329999923706055 |Wine             |FLIPFLOP PINOT GRIS (BTL)                |Flipflop Pinot Gris Ol                             |Convenience  |30175  |6.109999974568685  |4.0                  |3.0                      |4.0                      |1.0                        |3.0                   |1.4142135623730951            |3.0                    |1.4142135623730951             |8  |3        |32                          |\n",
      "+----+------+-------------------+-------------------+-------------------+------------------+-------------------+-----------------+-----------------------------------------+---------------------------------------------------+-------------+-------+-------------------+---------------------+-------------------------+-------------------------+---------------------------+----------------------+------------------------------+-----------------------+-------------------------------+---+---------+----------------------------+\n",
      "only showing top 10 rows\n"
     ]
    },
    {
     "name": "stderr",
     "output_type": "stream",
     "text": [
      "                                                                                \r"
     ]
    }
   ],
   "source": [
    "from pyspark.sql.functions import min, countDistinct\n",
    "\n",
    "windowSpecGlobal = Window.partitionBy(\"internal_store_id\", \"internal_product_id\")\n",
    "primeira_semana_df = df_completo_features.withColumn(\"primeira_semana\", min(\"data_da_semana\").over(windowSpecGlobal)) \\\n",
    "\n",
    "df_temp = df_completo_features.withColumn(\"primeira_semana_de_venda\", min(\"semana\").over(windowSpecGlobal))\n",
    "\n",
    "df_com_ciclo = df_temp.withColumn(\"semanas_desde_primeira_venda\", col(\"semana\") - col(\"primeira_semana_de_venda\"))\n",
    "\n",
    "df_com_ciclo = df_com_ciclo.drop(\"primeira_semana_de_venda\")\n",
    "\n",
    "print(\"Amostra dos dados com features de ciclo de vida do produto na loja: semanas desde a primeira venda\")\n",
    "\n",
    "df_com_ciclo.show(10, truncate=False)  \n",
    "\n",
    "\n",
    "        "
   ]
  },
  {
   "cell_type": "markdown",
   "id": "f0a93388",
   "metadata": {},
   "source": [
    "Feature de tendencia atual\n",
    "Ela mede a progressão contínua ao longo do ano. Os valores vão de 1 a 365 e não se repetem.\n",
    "\n",
    "Para o modelo, o dia 360 (fim de Dezembro) e o dia 10 (começo de Janeiro) são numericamente \"muito distantes\".\n",
    "\n",
    "Isso ensina ao modelo o conceito de \"começo\", \"meio\" e \"fim\" de ano."
   ]
  },
  {
   "cell_type": "code",
   "execution_count": 8,
   "metadata": {},
   "outputs": [
    {
     "name": "stdout",
     "output_type": "stream",
     "text": [
      "Amostra dos dados com todas as features criadas\n"
     ]
    },
    {
     "name": "stderr",
     "output_type": "stream",
     "text": [
      "[Stage 67:>                                                         (0 + 1) / 1]\r"
     ]
    },
    {
     "name": "stdout",
     "output_type": "stream",
     "text": [
      "+----+------+-------------------+-------------------+-------------------+------------------+-------------------+-----------------+-----------------------------------------+---------------------------------------------------+-------------+-------+-------------------+---------------------+-------------------------+-------------------------+---------------------------+----------------------+------------------------------+-----------------------+-------------------------------+---+---------+----------------------------+----------+\n",
      "|ano |semana|data_da_semana     |internal_product_id|internal_store_id  |quantidade_semanal|valor_bruto_semanal|categoria_produto|descricao                                |marca                                              |categoria_pdv|zipcode|preco_medio_semanal|vendas_semana_passada|vendas_duas_semanas_atras|vendas_tres_semanas_atras|vendas_quatro_semanas_atras|media_vendas_4_semanas|desvio_padrao_vendas_4_semanas|media_vendas_12_semanas|desvio_padrao_vendas_12_semanas|mes|trimestre|semanas_desde_primeira_venda|dia_do_ano|\n",
      "+----+------+-------------------+-------------------+-------------------+------------------+-------------------+-----------------+-----------------------------------------+---------------------------------------------------+-------------+-------+-------------------+---------------------+-------------------------+-------------------------+---------------------------+----------------------+------------------------------+-----------------------+-------------------------------+---+---------+----------------------------+----------+\n",
      "|2022|36    |2022-09-05 00:00:00|2866058112054092230|1000275275922029725|6.0               |38.939998626708984 |Distilled Spirits|MR BOSTON PEACH SCHNAPPS 12/1L 30PF      |Mr. Boston Peach Schnapps                          |Golf - Public|81507  |6.489999771118164  |0.0                  |0.0                      |0.0                      |0.0                        |0.0                   |0.0                           |0.0                    |0.0                            |9  |3        |0                           |248       |\n",
      "|2022|36    |2022-09-05 00:00:00|2982836183234975951|1000275275922029725|12.0              |56.279998779296875 |Distilled Spirits|BARTON PREMIUM VODKA 12/1L 80PF          |Barton Premium Vodka                               |Golf - Public|81507  |4.689999898274739  |0.0                  |0.0                      |0.0                      |0.0                        |0.0                   |0.0                           |0.0                    |0.0                            |9  |3        |0                           |248       |\n",
      "|2022|36    |2022-09-05 00:00:00|6639182541769323770|1000275275922029725|51.0              |407.52999925613403 |Distilled Spirits|BENCHMARK NO 8 BOURBON 12/1L 80PF        |Benchmark Old No8 Kentucky Straight Bourbon Whiskey|Golf - Public|81507  |7.990784299139883  |0.0                  |0.0                      |0.0                      |0.0                        |0.0                   |0.0                           |0.0                    |0.0                            |9  |3        |0                           |248       |\n",
      "|2022|36    |2022-09-05 00:00:00|97241945894293901  |1000275275922029725|3.0               |20.969999313354492 |Distilled Spirits|MR BOSTON PEPPERMINT SCHNAPPS 12/1L 30PF |Mr. Boston Peppermint Schnapps                     |Golf - Public|81507  |6.989999771118164  |0.0                  |0.0                      |0.0                      |0.0                        |0.0                   |0.0                           |0.0                    |0.0                            |9  |3        |0                           |248       |\n",
      "|2022|9     |2022-02-28 00:00:00|650162054185426354 |1000285336744471896|4.0               |112.76000213623047 |Package          |BUD LIGHT SELTZER BLACK CHERRY 2/12/12 CN|Bud Light Seltzer Black Cherry                     |Theatre      |30338  |28.190000534057617 |0.0                  |0.0                      |0.0                      |0.0                        |0.0                   |0.0                           |0.0                    |0.0                            |2  |1        |0                           |59        |\n",
      "|2022|2     |2022-01-10 00:00:00|1811757556461179912|1001371918471115422|1.0               |4.949999809265137  |Wine             |FLIPFLOP PINOT GRIS (BTL)                |Flipflop Pinot Gris Ol                             |Convenience  |30175  |4.949999809265137  |0.0                  |0.0                      |0.0                      |0.0                        |0.0                   |0.0                           |0.0                    |0.0                            |1  |1        |0                           |10        |\n",
      "|2022|16    |2022-04-18 00:00:00|1811757556461179912|1001371918471115422|4.0               |24.600000381469727 |Wine             |FLIPFLOP PINOT GRIS (BTL)                |Flipflop Pinot Gris Ol                             |Convenience  |30175  |6.150000095367432  |1.0                  |0.0                      |0.0                      |0.0                        |1.0                   |0.0                           |1.0                    |0.0                            |4  |2        |14                          |108       |\n",
      "|2022|23    |2022-06-06 00:00:00|1811757556461179912|1001371918471115422|3.0               |18.450000762939453 |Wine             |FLIPFLOP PINOT GRIS (BTL)                |Flipflop Pinot Gris Ol                             |Convenience  |30175  |6.150000254313151  |4.0                  |1.0                      |0.0                      |0.0                        |2.5                   |2.1213203435596424            |2.5                    |2.1213203435596424             |6  |2        |21                          |157       |\n",
      "|2022|26    |2022-06-27 00:00:00|1811757556461179912|1001371918471115422|4.0               |24.440000534057617 |Wine             |FLIPFLOP PINOT GRIS (BTL)                |Flipflop Pinot Gris Ol                             |Convenience  |30175  |6.110000133514404  |3.0                  |4.0                      |1.0                      |0.0                        |2.6666666666666665    |1.5275252316519468            |2.6666666666666665     |1.5275252316519468             |6  |2        |24                          |178       |\n",
      "|2022|34    |2022-08-22 00:00:00|1811757556461179912|1001371918471115422|3.0               |18.329999923706055 |Wine             |FLIPFLOP PINOT GRIS (BTL)                |Flipflop Pinot Gris Ol                             |Convenience  |30175  |6.109999974568685  |4.0                  |3.0                      |4.0                      |1.0                        |3.0                   |1.4142135623730951            |3.0                    |1.4142135623730951             |8  |3        |32                          |234       |\n",
      "+----+------+-------------------+-------------------+-------------------+------------------+-------------------+-----------------+-----------------------------------------+---------------------------------------------------+-------------+-------+-------------------+---------------------+-------------------------+-------------------------+---------------------------+----------------------+------------------------------+-----------------------+-------------------------------+---+---------+----------------------------+----------+\n",
      "only showing top 10 rows\n"
     ]
    },
    {
     "name": "stderr",
     "output_type": "stream",
     "text": [
      "                                                                                \r"
     ]
    }
   ],
   "source": [
    "from pyspark.sql.functions import dayofyear\n",
    "\n",
    "df_features_final = df_com_ciclo.withColumn(\"dia_do_ano\", dayofyear(col(\"data_da_semana\")))\n",
    "\n",
    "print(\"Amostra dos dados com todas as features criadas\")\n",
    "df_features_final.show(10, truncate=False)"
   ]
  }
 ],
 "metadata": {
  "kernelspec": {
   "display_name": "Python 3 (ipykernel)",
   "language": "python",
   "name": "python3"
  },
  "language_info": {
   "codemirror_mode": {
    "name": "ipython",
    "version": 3
   },
   "file_extension": ".py",
   "mimetype": "text/x-python",
   "name": "python",
   "nbconvert_exporter": "python",
   "pygments_lexer": "ipython3",
   "version": "3.12.3"
  }
 },
 "nbformat": 4,
 "nbformat_minor": 5
}
