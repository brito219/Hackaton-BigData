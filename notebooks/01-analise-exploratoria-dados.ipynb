{
 "cells": [
  {
   "cell_type": "code",
   "execution_count": 72,
   "id": "64430ab3",
   "metadata": {},
   "outputs": [
    {
     "name": "stdout",
     "output_type": "stream",
     "text": [
      "root\n",
      " |-- internal_store_id: string (nullable = true)\n",
      " |-- internal_product_id: string (nullable = true)\n",
      " |-- distributor_id: string (nullable = true)\n",
      " |-- transaction_date: date (nullable = true)\n",
      " |-- reference_date: date (nullable = true)\n",
      " |-- quantity: double (nullable = true)\n",
      " |-- gross_value: double (nullable = true)\n",
      " |-- net_value: double (nullable = true)\n",
      " |-- gross_profit: double (nullable = true)\n",
      " |-- discount: double (nullable = true)\n",
      " |-- taxes: double (nullable = true)\n",
      "\n"
     ]
    },
    {
     "name": "stderr",
     "output_type": "stream",
     "text": [
      "                                                                                \r"
     ]
    },
    {
     "name": "stdout",
     "output_type": "stream",
     "text": [
      "+-------------------+-------------------+--------------+----------------+--------------+--------+------------------+------------------+------------------+------------------+------------------+\n",
      "|  internal_store_id|internal_product_id|distributor_id|transaction_date|reference_date|quantity|       gross_value|         net_value|      gross_profit|          discount|             taxes|\n",
      "+-------------------+-------------------+--------------+----------------+--------------+--------+------------------+------------------+------------------+------------------+------------------+\n",
      "|7384367747233276219| 328903483604537190|             9|      2022-07-13|    2022-07-01|     1.0|            38.125|         37.890625|10.042625427246094| 3.950000047683716|          0.234375|\n",
      "|3536908514005606262|5418855670645487653|             5|      2022-03-21|    2022-03-01|     6.0|            107.25|106.44000244140625| 24.73200225830078|17.100000381469727|0.8100000023841858|\n",
      "|3138231730993449825|1087005562675741887|             6|      2022-09-06|    2022-09-01|     3.0|            56.625|56.220001220703125|14.124001502990723|              5.25|0.4050000011920929|\n",
      "|3681167389484217654|1401422983880045188|             5|      2022-09-11|    2022-09-01|   129.0|1037.1600227355957|1037.1600227355957| 156.3480257987976|  479.880006313324|               0.0|\n",
      "|7762413312337359369|6614994347738381720|             4|      2022-02-18|    2022-02-01|     1.0|26.229999542236328|23.950241088867188| 6.550240993499756|               0.0|2.2797579765319824|\n",
      "+-------------------+-------------------+--------------+----------------+--------------+--------+------------------+------------------+------------------+------------------+------------------+\n",
      "only showing top 5 rows\n",
      "root\n",
      " |-- produto: string (nullable = true)\n",
      " |-- categoria: string (nullable = true)\n",
      " |-- descricao: string (nullable = true)\n",
      " |-- tipos: string (nullable = true)\n",
      " |-- label: string (nullable = true)\n",
      " |-- subcategoria: string (nullable = true)\n",
      " |-- marca: string (nullable = true)\n",
      " |-- fabricante: string (nullable = true)\n",
      "\n",
      "+-------------------+-----------------+--------------------+-----------------+-------------+-------------------+--------------------+--------------------+\n",
      "|            produto|        categoria|           descricao|            tipos|        label|       subcategoria|               marca|          fabricante|\n",
      "+-------------------+-----------------+--------------------+-----------------+-------------+-------------------+--------------------+--------------------+\n",
      "|2282334733936076502|Distilled Spirits|JOSEPH CARTRON CA...|Distilled Spirits|         Core|Liqueurs & Cordials| Joseph Cartron Cafe|            Spiribam|\n",
      "|6091840953834683482|Distilled Spirits|SPRINGBANK 18 YEA...|Distilled Spirits|    Specialty|      Scotch Whisky|Springbank 18 Yea...|Pacific Edge Wine...|\n",
      "|1968645851245092408|Distilled Spirits|J BRANDT TRIPLE S...|Distilled Spirits|Private Label|Liqueurs & Cordials| J Brandt Triple Sec|     Sazerac Spirits|\n",
      "| 994706710729219179|            Draft|REFORMATION CASHM...|            Draft|       In&Out|        Other Draft|Reformation Cashm...| Reformation Brewery|\n",
      "|9209550539540384349|      Non-Alcohol|HELLA MOSCOW MULE...|      Non Alcohol|         Core|             Mixers|Hella Bitters Blo...|    Hella Bitter Llc|\n",
      "+-------------------+-----------------+--------------------+-----------------+-------------+-------------------+--------------------+--------------------+\n",
      "only showing top 5 rows\n",
      "root\n",
      " |-- pdv: string (nullable = true)\n",
      " |-- premise: string (nullable = true)\n",
      " |-- categoria_pdv: string (nullable = true)\n",
      " |-- zipcode: integer (nullable = true)\n",
      "\n",
      "+-------------------+-----------+-------------+-------+\n",
      "|                pdv|    premise|categoria_pdv|zipcode|\n",
      "+-------------------+-----------+-------------+-------+\n",
      "|2204965430669363375| On Premise| Mexican Rest|  30741|\n",
      "|5211957289528622910| On Premise|  Hotel/Motel|  80011|\n",
      "|9024493554530757353|Off Premise|  Convenience|  80751|\n",
      "|8659197371382902429| On Premise|   Restaurant|  80439|\n",
      "|1400854873763881130| On Premise|   Restaurant|  30093|\n",
      "+-------------------+-----------+-------------+-------+\n",
      "only showing top 5 rows\n"
     ]
    }
   ],
   "source": [
    "from pyspark.sql import SparkSession\n",
    "\n",
    "spark = SparkSession.builder.appName(\"PrevisaoVendasHackathon\").getOrCreate()\n",
    "\n",
    "df_transacoes = spark.read.parquet(\"dados/transacoes.parquet\")\n",
    "df_produtos = spark.read.parquet(\"dados/cadastroprodutos.parquet\")\n",
    "df_pdvs = spark.read.parquet(\"dados/cadastropdv.parquet\")\n",
    "\n",
    "df_transacoes.printSchema()\n",
    "df_transacoes.show(5)\n",
    "df_produtos.printSchema()\n",
    "df_produtos.show(5)\n",
    "df_pdvs.printSchema()\n",
    "df_pdvs.show(5) "
   ]
  },
  {
   "cell_type": "markdown",
   "id": "55ca74e4",
   "metadata": {},
   "source": [
    "detalhe que pode causar problemas mais tarde: produtos e df_pdvs têm uma coluna chamada categoria. quando fizer o join, o df completo terá duas colunas com o mesmo nome, o que é ambíguo e pode gerar erros em operações futuras.\n",
    "\n",
    "renomear as colunas pra nao ter ambiguidade"
   ]
  },
  {
   "cell_type": "code",
   "execution_count": 73,
   "id": "d9064d54",
   "metadata": {},
   "outputs": [
    {
     "name": "stdout",
     "output_type": "stream",
     "text": [
      "+-------------------+-----------------+--------------------+-----------------+-------------+-------------------+--------------------+--------------------+\n",
      "|            produto|categoria_produto|           descricao|            tipos|        label|       subcategoria|               marca|          fabricante|\n",
      "+-------------------+-----------------+--------------------+-----------------+-------------+-------------------+--------------------+--------------------+\n",
      "|2282334733936076502|Distilled Spirits|JOSEPH CARTRON CA...|Distilled Spirits|         Core|Liqueurs & Cordials| Joseph Cartron Cafe|            Spiribam|\n",
      "|6091840953834683482|Distilled Spirits|SPRINGBANK 18 YEA...|Distilled Spirits|    Specialty|      Scotch Whisky|Springbank 18 Yea...|Pacific Edge Wine...|\n",
      "|1968645851245092408|Distilled Spirits|J BRANDT TRIPLE S...|Distilled Spirits|Private Label|Liqueurs & Cordials| J Brandt Triple Sec|     Sazerac Spirits|\n",
      "| 994706710729219179|            Draft|REFORMATION CASHM...|            Draft|       In&Out|        Other Draft|Reformation Cashm...| Reformation Brewery|\n",
      "|9209550539540384349|      Non-Alcohol|HELLA MOSCOW MULE...|      Non Alcohol|         Core|             Mixers|Hella Bitters Blo...|    Hella Bitter Llc|\n",
      "+-------------------+-----------------+--------------------+-----------------+-------------+-------------------+--------------------+--------------------+\n",
      "only showing top 5 rows\n",
      "+-------------------+-----------+-------------+-------+\n",
      "|                pdv|    premise|categoria_pdv|zipcode|\n",
      "+-------------------+-----------+-------------+-------+\n",
      "|2204965430669363375| On Premise| Mexican Rest|  30741|\n",
      "|5211957289528622910| On Premise|  Hotel/Motel|  80011|\n",
      "|9024493554530757353|Off Premise|  Convenience|  80751|\n",
      "|8659197371382902429| On Premise|   Restaurant|  80439|\n",
      "|1400854873763881130| On Premise|   Restaurant|  30093|\n",
      "+-------------------+-----------+-------------+-------+\n",
      "only showing top 5 rows\n"
     ]
    }
   ],
   "source": [
    "df_produtos_renomeado = df_produtos.withColumnRenamed(\"categoria\", \"categoria_produto\")\n",
    "df_pdvs_renomeado = df_pdvs.withColumnRenamed(\"categoria\", \"categoria_pdv\")\n",
    "\n",
    "df_produtos_renomeado.show(5)\n",
    "df_pdvs_renomeado.show(5)"
   ]
  },
  {
   "cell_type": "markdown",
   "id": "31e923a8",
   "metadata": {},
   "source": [
    "a op combina nossa tabela principal de Vendas (df_transacoes) com o Catálogo de Produtos (df_produtos_renomeado), usando como chave de ligação as colunas internal_product_id (Vendas) e produto (Catálogo).\n",
    "\n",
    "left join garante que todas as vendas sejam mantidas, mesmo que não exista um produto correspondente no catálogo. Quando não houver correspondência, as colunas do catálogo serão preenchidas com valores vazios (null).\n",
    "\n",
    "result = tabela enriquecida com as informações do produto associado a cada venda."
   ]
  },
  {
   "cell_type": "code",
   "execution_count": 74,
   "id": "17722f33",
   "metadata": {},
   "outputs": [],
   "source": [
    "df_completo = df_transacoes.join(\n",
    "    df_produtos_renomeado,\n",
    "    df_transacoes[\"internal_product_id\"] == df_produtos_renomeado[\"produto\"], \n",
    "    \"left\"\n",
    ").join(\n",
    "    df_pdvs_renomeado,\n",
    "    df_transacoes[\"internal_store_id\"] == df_pdvs_renomeado[\"pdv\"],\n",
    "    \"left\"\n",
    ")"
   ]
  },
  {
   "cell_type": "code",
   "execution_count": 75,
   "id": "683c2ce5",
   "metadata": {},
   "outputs": [
    {
     "name": "stdout",
     "output_type": "stream",
     "text": [
      "Schema do DataFrame unificado:\n",
      "root\n",
      " |-- internal_store_id: string (nullable = true)\n",
      " |-- internal_product_id: string (nullable = true)\n",
      " |-- distributor_id: string (nullable = true)\n",
      " |-- transaction_date: date (nullable = true)\n",
      " |-- reference_date: date (nullable = true)\n",
      " |-- quantity: double (nullable = true)\n",
      " |-- gross_value: double (nullable = true)\n",
      " |-- net_value: double (nullable = true)\n",
      " |-- gross_profit: double (nullable = true)\n",
      " |-- discount: double (nullable = true)\n",
      " |-- taxes: double (nullable = true)\n",
      " |-- produto: string (nullable = true)\n",
      " |-- categoria_produto: string (nullable = true)\n",
      " |-- descricao: string (nullable = true)\n",
      " |-- tipos: string (nullable = true)\n",
      " |-- label: string (nullable = true)\n",
      " |-- subcategoria: string (nullable = true)\n",
      " |-- marca: string (nullable = true)\n",
      " |-- fabricante: string (nullable = true)\n",
      " |-- pdv: string (nullable = true)\n",
      " |-- premise: string (nullable = true)\n",
      " |-- categoria_pdv: string (nullable = true)\n",
      " |-- zipcode: integer (nullable = true)\n",
      "\n",
      "\n",
      "Amostra dos dados unificados:\n",
      "+-------------------+-------------------+--------------+----------------+--------------+--------+------------------+------------------+------------------+------------------+------------------+-------------------+-----------------+--------------------+-----------------+-----+-------------------+--------------------+--------------------+-------------------+-----------+--------------+-------+\n",
      "|  internal_store_id|internal_product_id|distributor_id|transaction_date|reference_date|quantity|       gross_value|         net_value|      gross_profit|          discount|             taxes|            produto|categoria_produto|           descricao|            tipos|label|       subcategoria|               marca|          fabricante|                pdv|    premise| categoria_pdv|zipcode|\n",
      "+-------------------+-------------------+--------------+----------------+--------------+--------+------------------+------------------+------------------+------------------+------------------+-------------------+-----------------+--------------------+-----------------+-----+-------------------+--------------------+--------------------+-------------------+-----------+--------------+-------+\n",
      "|7384367747233276219| 328903483604537190|             9|      2022-07-13|    2022-07-01|     1.0|            38.125|         37.890625|10.042625427246094| 3.950000047683716|          0.234375| 328903483604537190|          Package|BUD LIGHT CHELADA...|          Package| Core|          Specialty|Bud Light Chelada...|AB Anheuser Busch...|7384367747233276219|Off Premise|Package/Liquor|  80905|\n",
      "|3536908514005606262|5418855670645487653|             5|      2022-03-21|    2022-03-01|     6.0|            107.25|106.44000244140625| 24.73200225830078|17.100000381469727|0.8100000023841858|5418855670645487653|          Package|MICHELOB ULTRA 18...|          Package| Core|              Lager|      Michelob Ultra|AB Anheuser Busch...|3536908514005606262|Off Premise|Package/Liquor|  80239|\n",
      "|3138231730993449825|1087005562675741887|             6|      2022-09-06|    2022-09-01|     3.0|            56.625|56.220001220703125|14.124001502990723|              5.25|0.4050000011920929|1087005562675741887|          Package|BUD LIGHT LIME 18...|          Package| Core|              Lager|      Bud Light Lime|AB Anheuser Busch...|3138231730993449825|Off Premise|Package/Liquor|  80634|\n",
      "|3681167389484217654|1401422983880045188|             5|      2022-09-11|    2022-09-01|   129.0|1037.1600227355957|1037.1600227355957| 156.3480257987976|  479.880006313324|               0.0|1401422983880045188|Distilled Spirits|99 BUTTERSCOTCH 1...|Allocated Spirits| NULL|Liqueurs & Cordials|     99 Butterscotch|     Sazerac Spirits|3681167389484217654|Off Premise|Package/Liquor|  80226|\n",
      "|7762413312337359369|6614994347738381720|             4|      2022-02-18|    2022-02-01|     1.0|26.229999542236328|23.950241088867188| 6.550240993499756|               0.0|2.2797579765319824|6614994347738381720|          Package|NB VOODOO RANGER ...|          Package| Core|                IPA|New Belgium Voodo...|      NB New Belgium|7762413312337359369|Off Premise|   Convenience|  30096|\n",
      "+-------------------+-------------------+--------------+----------------+--------------+--------+------------------+------------------+------------------+------------------+------------------+-------------------+-----------------+--------------------+-----------------+-----+-------------------+--------------------+--------------------+-------------------+-----------+--------------+-------+\n",
      "only showing top 5 rows\n"
     ]
    },
    {
     "name": "stderr",
     "output_type": "stream",
     "text": [
      "                                                                                \r"
     ]
    }
   ],
   "source": [
    "print(\"Schema do DataFrame unificado:\")\n",
    "df_completo.printSchema()\n",
    "\n",
    "print(\"\\nAmostra dos dados unificados:\")\n",
    "df_completo.show(5)"
   ]
  },
  {
   "cell_type": "markdown",
   "id": "352c7f0e",
   "metadata": {},
   "source": [
    "remocao de coluna id duplicada:\n",
    "pdf e internal store id"
   ]
  },
  {
   "cell_type": "code",
   "execution_count": 76,
   "id": "7b880c9d",
   "metadata": {},
   "outputs": [],
   "source": [
    "df_completo = df_completo.drop(\"produto\").drop(\"pdv\")"
   ]
  },
  {
   "cell_type": "code",
   "execution_count": 77,
   "id": "b7fac893",
   "metadata": {},
   "outputs": [
    {
     "name": "stdout",
     "output_type": "stream",
     "text": [
      "Schema do DataFrame unificado:\n",
      "root\n",
      " |-- internal_store_id: string (nullable = true)\n",
      " |-- internal_product_id: string (nullable = true)\n",
      " |-- distributor_id: string (nullable = true)\n",
      " |-- transaction_date: date (nullable = true)\n",
      " |-- reference_date: date (nullable = true)\n",
      " |-- quantity: double (nullable = true)\n",
      " |-- gross_value: double (nullable = true)\n",
      " |-- net_value: double (nullable = true)\n",
      " |-- gross_profit: double (nullable = true)\n",
      " |-- discount: double (nullable = true)\n",
      " |-- taxes: double (nullable = true)\n",
      " |-- categoria_produto: string (nullable = true)\n",
      " |-- descricao: string (nullable = true)\n",
      " |-- tipos: string (nullable = true)\n",
      " |-- label: string (nullable = true)\n",
      " |-- subcategoria: string (nullable = true)\n",
      " |-- marca: string (nullable = true)\n",
      " |-- fabricante: string (nullable = true)\n",
      " |-- premise: string (nullable = true)\n",
      " |-- categoria_pdv: string (nullable = true)\n",
      " |-- zipcode: integer (nullable = true)\n",
      "\n",
      "\n",
      "Amostra dos dados unificados:\n",
      "+-------------------+-------------------+--------------+----------------+--------------+--------+------------------+------------------+------------------+------------------+------------------+-----------------+--------------------+-----------------+-----+-------------------+--------------------+--------------------+-----------+--------------+-------+\n",
      "|  internal_store_id|internal_product_id|distributor_id|transaction_date|reference_date|quantity|       gross_value|         net_value|      gross_profit|          discount|             taxes|categoria_produto|           descricao|            tipos|label|       subcategoria|               marca|          fabricante|    premise| categoria_pdv|zipcode|\n",
      "+-------------------+-------------------+--------------+----------------+--------------+--------+------------------+------------------+------------------+------------------+------------------+-----------------+--------------------+-----------------+-----+-------------------+--------------------+--------------------+-----------+--------------+-------+\n",
      "|7384367747233276219| 328903483604537190|             9|      2022-07-13|    2022-07-01|     1.0|            38.125|         37.890625|10.042625427246094| 3.950000047683716|          0.234375|          Package|BUD LIGHT CHELADA...|          Package| Core|          Specialty|Bud Light Chelada...|AB Anheuser Busch...|Off Premise|Package/Liquor|  80905|\n",
      "|3536908514005606262|5418855670645487653|             5|      2022-03-21|    2022-03-01|     6.0|            107.25|106.44000244140625| 24.73200225830078|17.100000381469727|0.8100000023841858|          Package|MICHELOB ULTRA 18...|          Package| Core|              Lager|      Michelob Ultra|AB Anheuser Busch...|Off Premise|Package/Liquor|  80239|\n",
      "|3138231730993449825|1087005562675741887|             6|      2022-09-06|    2022-09-01|     3.0|            56.625|56.220001220703125|14.124001502990723|              5.25|0.4050000011920929|          Package|BUD LIGHT LIME 18...|          Package| Core|              Lager|      Bud Light Lime|AB Anheuser Busch...|Off Premise|Package/Liquor|  80634|\n",
      "|3681167389484217654|1401422983880045188|             5|      2022-09-11|    2022-09-01|   129.0|1037.1600227355957|1037.1600227355957| 156.3480257987976|  479.880006313324|               0.0|Distilled Spirits|99 BUTTERSCOTCH 1...|Allocated Spirits| NULL|Liqueurs & Cordials|     99 Butterscotch|     Sazerac Spirits|Off Premise|Package/Liquor|  80226|\n",
      "|7762413312337359369|6614994347738381720|             4|      2022-02-18|    2022-02-01|     1.0|26.229999542236328|23.950241088867188| 6.550240993499756|               0.0|2.2797579765319824|          Package|NB VOODOO RANGER ...|          Package| Core|                IPA|New Belgium Voodo...|      NB New Belgium|Off Premise|   Convenience|  30096|\n",
      "+-------------------+-------------------+--------------+----------------+--------------+--------+------------------+------------------+------------------+------------------+------------------+-----------------+--------------------+-----------------+-----+-------------------+--------------------+--------------------+-----------+--------------+-------+\n",
      "only showing top 5 rows\n"
     ]
    }
   ],
   "source": [
    "print(\"Schema do DataFrame unificado:\")\n",
    "df_completo.printSchema()\n",
    "\n",
    "print(\"\\nAmostra dos dados unificados:\")\n",
    "df_completo.show(5)"
   ]
  },
  {
   "cell_type": "markdown",
   "id": "685e487c",
   "metadata": {},
   "source": [
    "acima dessa celula foi feito tratamento de dados\n",
    "abaixo dessa celula será feito a analise exploratoria de dados"
   ]
  },
  {
   "cell_type": "code",
   "execution_count": 78,
   "id": "3e762bef",
   "metadata": {},
   "outputs": [
    {
     "name": "stderr",
     "output_type": "stream",
     "text": [
      "                                                                                \r"
     ]
    },
    {
     "name": "stdout",
     "output_type": "stream",
     "text": [
      "Número total de transações em 2022: 6560698\n",
      "\n",
      "Contagem de valores nulos após o join:\n"
     ]
    },
    {
     "name": "stderr",
     "output_type": "stream",
     "text": [
      "[Stage 310:===============================================>         (5 + 1) / 6]\r"
     ]
    },
    {
     "name": "stdout",
     "output_type": "stream",
     "text": [
      "+-----------------+-------------+-------+\n",
      "|categoria_produto|categoria_pdv|zipcode|\n",
      "+-----------------+-------------+-------+\n",
      "|                0|        45582|  45582|\n",
      "+-----------------+-------------+-------+\n",
      "\n"
     ]
    },
    {
     "name": "stderr",
     "output_type": "stream",
     "text": [
      "                                                                                \r"
     ]
    }
   ],
   "source": [
    "#verificacoes basicas de quantidade e integridade\n",
    "from pyspark.sql.functions import col, count, when, isnan, isnull\n",
    "\n",
    "#tamanho do dataset\n",
    "total_transacoes = df_completo.count()\n",
    "print(f\"Número total de transações em 2022: {total_transacoes}\")\n",
    "\n",
    "#verificar se os joins criaram valores nulos(o que indicaria transações com produtos ou PDVs não cadastrados)\n",
    "# a quantidade que der null (join falhou), significa que as transacoes são vendas de lojas \"fantasmas\" ou não cadastradas\n",
    "# venda sem ponto de venda\n",
    "print(\"\\nContagem de valores nulos após o join:\")\n",
    "df_completo.select([\n",
    "    count(when(isnull(c), c)).alias(c) for c in [\"categoria_produto\", \"categoria_pdv\", \"zipcode\"]\n",
    "]).show()"
   ]
  },
  {
   "cell_type": "markdown",
   "id": "6c714c42",
   "metadata": {},
   "source": [
    "decidir o que fazer com as 45582 transacoes que nao tem ponto de venda nem zipcode -> ou apagar as linhas (nao é tanta coisa comparada ao todo) ou fazer uma imputação (atribuir um valor para as linhas nulas)"
   ]
  },
  {
   "cell_type": "markdown",
   "id": "ab99b707",
   "metadata": {},
   "source": [
    "Como 45.582 representa uma porcentagem muito pequena do total de 6.5 milhões de transações (cerca de 0.7%), a abordagem mais simples e segura é remover essas linhas. não perderei muita informação e garantirei que o modelo treine apenas com dados completos."
   ]
  },
  {
   "cell_type": "code",
   "execution_count": 79,
   "id": "62c2d770",
   "metadata": {},
   "outputs": [
    {
     "name": "stderr",
     "output_type": "stream",
     "text": [
      "                                                                                \r"
     ]
    },
    {
     "name": "stdout",
     "output_type": "stream",
     "text": [
      "Tamanho original: 6560698\n"
     ]
    },
    {
     "name": "stderr",
     "output_type": "stream",
     "text": [
      "[Stage 320:===============================================>         (5 + 1) / 6]\r"
     ]
    },
    {
     "name": "stdout",
     "output_type": "stream",
     "text": [
      "Tamanho após limpeza: 6515116\n"
     ]
    },
    {
     "name": "stderr",
     "output_type": "stream",
     "text": [
      "                                                                                \r"
     ]
    }
   ],
   "source": [
    "df_completo_limpo = df_completo.na.drop(subset=[\"categoria_pdv\"])\n",
    "\n",
    "print(f\"Tamanho original: {df_completo.count()}\")\n",
    "print(f\"Tamanho após limpeza: {df_completo_limpo.count()}\")"
   ]
  },
  {
   "cell_type": "code",
   "execution_count": 80,
   "id": "68fb36c6",
   "metadata": {},
   "outputs": [
    {
     "name": "stdout",
     "output_type": "stream",
     "text": [
      "root\n",
      " |-- internal_store_id: string (nullable = true)\n",
      " |-- internal_product_id: string (nullable = true)\n",
      " |-- distributor_id: string (nullable = true)\n",
      " |-- transaction_date: date (nullable = true)\n",
      " |-- reference_date: date (nullable = true)\n",
      " |-- quantity: double (nullable = true)\n",
      " |-- gross_value: double (nullable = true)\n",
      " |-- net_value: double (nullable = true)\n",
      " |-- gross_profit: double (nullable = true)\n",
      " |-- discount: double (nullable = true)\n",
      " |-- taxes: double (nullable = true)\n",
      " |-- categoria_produto: string (nullable = true)\n",
      " |-- descricao: string (nullable = true)\n",
      " |-- tipos: string (nullable = true)\n",
      " |-- label: string (nullable = true)\n",
      " |-- subcategoria: string (nullable = true)\n",
      " |-- marca: string (nullable = true)\n",
      " |-- fabricante: string (nullable = true)\n",
      " |-- premise: string (nullable = true)\n",
      " |-- categoria_pdv: string (nullable = true)\n",
      " |-- zipcode: integer (nullable = true)\n",
      "\n",
      "+-------------------+-------------------+--------------+----------------+--------------+--------+------------------+------------------+------------------+------------------+------------------+-----------------+--------------------+-----------------+-----+-------------------+--------------------+--------------------+-----------+--------------+-------+\n",
      "|  internal_store_id|internal_product_id|distributor_id|transaction_date|reference_date|quantity|       gross_value|         net_value|      gross_profit|          discount|             taxes|categoria_produto|           descricao|            tipos|label|       subcategoria|               marca|          fabricante|    premise| categoria_pdv|zipcode|\n",
      "+-------------------+-------------------+--------------+----------------+--------------+--------+------------------+------------------+------------------+------------------+------------------+-----------------+--------------------+-----------------+-----+-------------------+--------------------+--------------------+-----------+--------------+-------+\n",
      "|7384367747233276219| 328903483604537190|             9|      2022-07-13|    2022-07-01|     1.0|            38.125|         37.890625|10.042625427246094| 3.950000047683716|          0.234375|          Package|BUD LIGHT CHELADA...|          Package| Core|          Specialty|Bud Light Chelada...|AB Anheuser Busch...|Off Premise|Package/Liquor|  80905|\n",
      "|3536908514005606262|5418855670645487653|             5|      2022-03-21|    2022-03-01|     6.0|            107.25|106.44000244140625| 24.73200225830078|17.100000381469727|0.8100000023841858|          Package|MICHELOB ULTRA 18...|          Package| Core|              Lager|      Michelob Ultra|AB Anheuser Busch...|Off Premise|Package/Liquor|  80239|\n",
      "|3138231730993449825|1087005562675741887|             6|      2022-09-06|    2022-09-01|     3.0|            56.625|56.220001220703125|14.124001502990723|              5.25|0.4050000011920929|          Package|BUD LIGHT LIME 18...|          Package| Core|              Lager|      Bud Light Lime|AB Anheuser Busch...|Off Premise|Package/Liquor|  80634|\n",
      "|3681167389484217654|1401422983880045188|             5|      2022-09-11|    2022-09-01|   129.0|1037.1600227355957|1037.1600227355957| 156.3480257987976|  479.880006313324|               0.0|Distilled Spirits|99 BUTTERSCOTCH 1...|Allocated Spirits| NULL|Liqueurs & Cordials|     99 Butterscotch|     Sazerac Spirits|Off Premise|Package/Liquor|  80226|\n",
      "|7762413312337359369|6614994347738381720|             4|      2022-02-18|    2022-02-01|     1.0|26.229999542236328|23.950241088867188| 6.550240993499756|               0.0|2.2797579765319824|          Package|NB VOODOO RANGER ...|          Package| Core|                IPA|New Belgium Voodo...|      NB New Belgium|Off Premise|   Convenience|  30096|\n",
      "+-------------------+-------------------+--------------+----------------+--------------+--------+------------------+------------------+------------------+------------------+------------------+-----------------+--------------------+-----------------+-----+-------------------+--------------------+--------------------+-----------+--------------+-------+\n",
      "only showing top 5 rows\n"
     ]
    },
    {
     "name": "stderr",
     "output_type": "stream",
     "text": [
      "                                                                                \r"
     ]
    }
   ],
   "source": [
    "df_completo_limpo.printSchema()\n",
    "df_completo_limpo.show(5)"
   ]
  },
  {
   "cell_type": "markdown",
   "id": "f48aa98f",
   "metadata": {},
   "source": [
    "dado que o objetivo é prever a quantidade semanal por PDV e SKU, a análise deve ser focada em encontrar padrões relacionados a essas três dimensões: o quê (quantidade), onde (internal_store_id) e quando (transaction_date)."
   ]
  },
  {
   "cell_type": "markdown",
   "id": "1a77e7a7",
   "metadata": {},
   "source": [
    "análise da variável alvo: quantity\n",
    "\n",
    "questionamento: qual é a distribuição das quantidades vendidas por transação? tem outliers? ou negativos (devoluções)?\n",
    "\n",
    "ajuda a identificar a necessidade de limpar os dados (ex: remover devoluções se não fizerem sentido para a previsão) e a entender a escala das vendas. outliers muito grandes podem distorcer o treinamento do modelo."
   ]
  },
  {
   "cell_type": "code",
   "execution_count": 81,
   "id": "a50fa52f",
   "metadata": {},
   "outputs": [
    {
     "name": "stderr",
     "output_type": "stream",
     "text": [
      "[Stage 329:===============================================>         (5 + 1) / 6]\r"
     ]
    },
    {
     "name": "stdout",
     "output_type": "stream",
     "text": [
      "+-------+-----------------+\n",
      "|summary|         quantity|\n",
      "+-------+-----------------+\n",
      "|  count|          6515116|\n",
      "|   mean|8.149641143197064|\n",
      "| stddev|80.71476955086146|\n",
      "|    min|          -1530.0|\n",
      "|    max|          94230.0|\n",
      "+-------+-----------------+\n",
      "\n"
     ]
    },
    {
     "name": "stderr",
     "output_type": "stream",
     "text": [
      "                                                                                \r"
     ]
    }
   ],
   "source": [
    "\n",
    "df_completo_limpo.select(\"quantity\").describe().show()\n",
    "# quantity que significa a quantidade vendida por CADA transacao "
   ]
  },
  {
   "cell_type": "markdown",
   "id": "b8973a32",
   "metadata": {},
   "source": [
    "observações sobre as funcoes estatisticas basicas iniciais: \n",
    "6,5 milhoes de transacoes\n",
    "a media da quantidade de produtos vendidos por transacao é 8\n",
    "o desvio padrao é 10x maior que a media, é um sinal claro de que os seus dados têm uma variabilidade enorme e contêm outliers significativos\n",
    "o valor max é de quase 100 mil produtos vendidos em uma unica transacao, indicando que a empresa pode ser uma possivel B2b ou um centro de distribuicao\n",
    "\n",
    "o valor min mostra que temos devolucoes, se existe uma transacao com um valor negativo, existe a mesma transacao com um valor positivo, sendo assim, limpar essa linha negativa para que o treinamento da maquina fique mais preciso acaba sendo uma escolha bem condizente com o que queremos entregar \n"
   ]
  },
  {
   "cell_type": "code",
   "execution_count": 82,
   "id": "994ac796",
   "metadata": {},
   "outputs": [
    {
     "name": "stderr",
     "output_type": "stream",
     "text": [
      "                                                                                \r"
     ]
    },
    {
     "name": "stdout",
     "output_type": "stream",
     "text": [
      "Tamanho do DataFrame antes de filtrar as quantidades: 6515116\n"
     ]
    },
    {
     "name": "stderr",
     "output_type": "stream",
     "text": [
      "                                                                                \r"
     ]
    },
    {
     "name": "stdout",
     "output_type": "stream",
     "text": [
      "Tamanho do DataFrame após filtrar (apenas vendas reais): 6423880\n"
     ]
    },
    {
     "name": "stderr",
     "output_type": "stream",
     "text": [
      "                                                                                \r"
     ]
    },
    {
     "name": "stdout",
     "output_type": "stream",
     "text": [
      "Número de transações removidas (quantidade <= 0): 91236\n",
      "\n",
      "Estatísticas descritivas apenas para vendas reais:\n"
     ]
    },
    {
     "name": "stderr",
     "output_type": "stream",
     "text": [
      "[Stage 354:===============================================>         (5 + 1) / 6]\r"
     ]
    },
    {
     "name": "stdout",
     "output_type": "stream",
     "text": [
      "+-------+--------------------+\n",
      "|summary|            quantity|\n",
      "+-------+--------------------+\n",
      "|  count|             6423880|\n",
      "|   mean|   8.298247866619342|\n",
      "| stddev|   81.26202216095105|\n",
      "|    min|1.192092895507812...|\n",
      "|    max|             94230.0|\n",
      "+-------+--------------------+\n",
      "\n"
     ]
    },
    {
     "name": "stderr",
     "output_type": "stream",
     "text": [
      "                                                                                \r"
     ]
    }
   ],
   "source": [
    "\n",
    "print(f\"Tamanho do DataFrame antes de filtrar as quantidades: {df_completo_limpo.count()}\")\n",
    "\n",
    "# Filtra o DataFrame para manter apenas as linhas onde a quantidade é maior que zero\n",
    "df_vendas_reais = df_completo_limpo.filter(df_completo_limpo[\"quantity\"] > 0)\n",
    "\n",
    "print(f\"Tamanho do DataFrame após filtrar (apenas vendas reais): {df_vendas_reais.count()}\")\n",
    "\n",
    "quantidade_removida = df_completo_limpo.count() - df_vendas_reais.count()\n",
    "print(f\"Número de transações removidas (quantidade <= 0): {quantidade_removida}\")\n",
    "\n",
    "# Agora, vamos rodar as estatísticas descritivas novamente neste novo DataFrame limpo\n",
    "print(\"\\nEstatísticas descritivas apenas para vendas reais:\")\n",
    "df_vendas_reais.select(\"quantity\").describe().show()"
   ]
  },
  {
   "cell_type": "markdown",
   "id": "60d0b4ff",
   "metadata": {},
   "source": [
    "existe um valor minimo que nao é .0 (o que é bem estranho tendo em vista que a quantidade deve ser um valor inteiro)\n",
    "vou fazer a verificacao se alguma categoria do produto faz sentido ser vendido como peso ou volume\n",
    "\n",
    "Cenário A: Existem Vendas por Peso/Volume\n",
    "Se a tabela de saída mostrar produtos em categorias como \"Hortifruti\", \"Padaria\", \"Frios\" ou descrições que incluam \"KG\", \"Granel\", etc., isso é uma forte evidência de que seu dataset contém produtos que são vendidos por peso ou volume.\n",
    "\n",
    "Decisão: Neste caso, não faça o cast para inteiro, pois você perderia informações valiosas. Você precisará manter a coluna como double e talvez arredondar para um número razoável de casas decimais se quiser.\n",
    "\n",
    "Cenário B: São Apenas \"Ruídos\" do Tipo de Dado\n",
    "Se a tabela de saída estiver vazia (contagem_fracionadas for 0), ou se ela mostrar quantidades que são extremamente próximas de um número inteiro (como 5.00000001 ou 2.99999998), isso confirma que não há vendas fracionadas de verdade. São apenas pequenas imprecisões de ponto flutuante.\n",
    "\n",
    "Decisão: Neste caso, fazer o cast para inteiro é a abordagem correta e segura. Você estará limpando o \"ruído\" e deixando os dados consistentes com a realidade do negócio."
   ]
  },
  {
   "cell_type": "code",
   "execution_count": 83,
   "id": "ef85c6a0",
   "metadata": {},
   "outputs": [
    {
     "name": "stdout",
     "output_type": "stream",
     "text": [
      "95346 transações com quantidades que não são inteiras.\n",
      "amostra:\n",
      "+------------------+-----------------+--------------------------------------------------------------+\n",
      "|quantity          |categoria_produto|descricao                                                     |\n",
      "+------------------+-----------------+--------------------------------------------------------------+\n",
      "|45.9999897480011  |Distilled Spirits|BLANTON'S BOURBON 6/750ML 93PF                                |\n",
      "|14.000010132789612|Distilled Spirits|CARAVELLA LIMONCELLO 6/750ML 56PF                             |\n",
      "|139.99979883432388|Distilled Spirits|FIREBALL 12/1L 66PF                                           |\n",
      "|79.00000804662704 |Distilled Spirits|FIREBALL 12/1L 66PF                                           |\n",
      "|5.9999880194664   |Distilled Spirits|GRAN GALA ORANGE LIQUEUR12/L 80PF                             |\n",
      "|83.0000039935112  |Distilled Spirits|PEYCHAUD'S APERTIVO 12/750ML 22PF                             |\n",
      "|5.9999998807907104|Distilled Spirits|OLD RIP VAN WINKLE SPECIAL RESERVE 12YR BOURBON 3/750ML 90.4PF|\n",
      "|88.99999797344208 |Distilled Spirits|FIREFLY SWEET TEA 6/1.75L 70PF                                |\n",
      "|8.000004053115845 |Distilled Spirits|99 COCONUT 12/750ML (R13) 99PF                                |\n",
      "|147.99999594688416|Distilled Spirits|PAUL MASSON APPLE BRANDY 12/750ML 54PF                        |\n",
      "|88.00000810623169 |Distilled Spirits|WELLER SPECIAL RESERVE BOURBON 6/1.75ML 90PF                  |\n",
      "|91.99988496303558 |Distilled Spirits|BUFFALO TRACE BOURBON 12/1L 90PF                              |\n",
      "|14.99998825788498 |Distilled Spirits|WELLER SPECIAL RESERVE BOURBON 12/1L 90PF                     |\n",
      "|34.99998062849045 |Distilled Spirits|BUFFALO TRACE BOURBON 12/750ML 90PF                           |\n",
      "|130.00000846385956|Distilled Spirits|MR BOSTON PEACH SCHNAPPS 12/1L 30PF                           |\n",
      "|15.999996185302734|Distilled Spirits|MR BOSTON ENGLISH MARKET GIN 12/1L 80PF                       |\n",
      "|24.9999960064888  |Distilled Spirits|PAUL MASSON BRANDY VS 12/1L 80PF                              |\n",
      "|112.00000786781311|Distilled Spirits|PARROT BAY COCONUT RUM 6/1.75L PET 42PF                       |\n",
      "|63.999995946884155|Distilled Spirits|FIREBALL 6/1.75L 66PF                                         |\n",
      "|6.9999960064888   |Distilled Spirits|PARROT BAY COCONUT RUM 12/1L 90PF                             |\n",
      "+------------------+-----------------+--------------------------------------------------------------+\n",
      "only showing top 20 rows\n"
     ]
    }
   ],
   "source": [
    "from pyspark.sql.functions import col\n",
    "from pyspark.sql.types import IntegerType\n",
    "\n",
    "\n",
    "# filtragem do df para encontrar linhas onde a coluna 'quantity' não é um número inteiro\n",
    "# (quantity!= int(quantity)) faz exatamente essa verificação.\n",
    "df_quantidades_fracionadas = df_vendas_reais.filter(\n",
    "    col(\"quantity\")!= col(\"quantity\").cast(IntegerType())\n",
    ")\n",
    "\n",
    "contagem_fracionadas = df_quantidades_fracionadas.count()\n",
    "\n",
    "if contagem_fracionadas > 0:\n",
    "    print(f\"{contagem_fracionadas} transações com quantidades que não são inteiras.\")\n",
    "    print(\"amostra:\")\n",
    "    \n",
    "    df_quantidades_fracionadas.select(\"quantity\", \"categoria_produto\", \"descricao\").show(truncate=False)\n",
    "else:\n",
    "    print(\"nenhuma transação com quantidade fracionada foi encontrada.\")"
   ]
  },
  {
   "cell_type": "markdown",
   "id": "209f1780",
   "metadata": {},
   "source": [
    "claramente sao ruídos do tipo de dado, mas antes de realizar o casting, vou como o show mostra so as primeiras linhas, e nesse caso todos os produtos sao da mesma categoria, vou fazer outro show para ter certeza que a variedade de dados inteira tem o ruído, ou se é apenas coincidencia da categoria"
   ]
  },
  {
   "cell_type": "code",
   "execution_count": 84,
   "id": "6e434fbf",
   "metadata": {},
   "outputs": [
    {
     "name": "stdout",
     "output_type": "stream",
     "text": [
      "Exibindo 10 linhas aleatórias do DataFrame:\n",
      "+------------------+-----------------+--------------------+\n",
      "|          quantity|categoria_produto|           descricao|\n",
      "+------------------+-----------------+--------------------+\n",
      "| 51.00000041723251|Distilled Spirits|MR BOSTON PEACH S...|\n",
      "| 40.99999189376831|Distilled Spirits|EAGLE RARE SINGLE...|\n",
      "|112.00000667572021|Distilled Spirits|MARGARITAVILLE GO...|\n",
      "|   1.9999920129776|Distilled Spirits| FIREBALL 12/1L 66PF|\n",
      "|    4.999980032444|Distilled Spirits|BITTERMENS GRAPEF...|\n",
      "|0.9999989867210388|Distilled Spirits|WELLER WILLIAM LA...|\n",
      "| 43.00000846385956|Distilled Spirits|RYAN'S IRISH CREA...|\n",
      "|4.0000081062316895|Distilled Spirits|SCORESBY RARE SCO...|\n",
      "|2.0000009536743164|Distilled Spirits|GEORGE T STAGG 20...|\n",
      "|22.999997973442078|Distilled Spirits|HANCOCK'S BOURBON...|\n",
      "+------------------+-----------------+--------------------+\n",
      "only showing top 10 rows\n"
     ]
    }
   ],
   "source": [
    "from pyspark.sql.functions import rand\n",
    "\n",
    "print(\"Exibindo 10 linhas aleatórias do DataFrame:\")\n",
    "\n",
    "# 1. orderBy(rand()) embaralha o DataFrame de forma aleatória.\n",
    "# 2. show(10) pega as 10 primeiras linhas do DataFrame já embaralhado.\n",
    "df_quantidades_fracionadas.orderBy(rand()).select(\"quantity\", \"categoria_produto\", \"descricao\").show(10)"
   ]
  },
  {
   "cell_type": "markdown",
   "id": "a5594a51",
   "metadata": {},
   "source": [
    "é possivel ver que não é coincidencia do tipo de produto\n",
    "realização da mudanca do tipo de produto"
   ]
  },
  {
   "cell_type": "code",
   "execution_count": 85,
   "id": "6b5f8b92",
   "metadata": {},
   "outputs": [
    {
     "name": "stdout",
     "output_type": "stream",
     "text": [
      "\n",
      "Schema do DataFrame final (após cast para inteiro):\n",
      "root\n",
      " |-- internal_store_id: string (nullable = true)\n",
      " |-- internal_product_id: string (nullable = true)\n",
      " |-- distributor_id: string (nullable = true)\n",
      " |-- transaction_date: date (nullable = true)\n",
      " |-- reference_date: date (nullable = true)\n",
      " |-- quantity: integer (nullable = true)\n",
      " |-- gross_value: double (nullable = true)\n",
      " |-- net_value: double (nullable = true)\n",
      " |-- gross_profit: double (nullable = true)\n",
      " |-- discount: double (nullable = true)\n",
      " |-- taxes: double (nullable = true)\n",
      " |-- categoria_produto: string (nullable = true)\n",
      " |-- descricao: string (nullable = true)\n",
      " |-- tipos: string (nullable = true)\n",
      " |-- label: string (nullable = true)\n",
      " |-- subcategoria: string (nullable = true)\n",
      " |-- marca: string (nullable = true)\n",
      " |-- fabricante: string (nullable = true)\n",
      " |-- premise: string (nullable = true)\n",
      " |-- categoria_pdv: string (nullable = true)\n",
      " |-- zipcode: integer (nullable = true)\n",
      "\n",
      "\n",
      "Estatísticas descritivas do DataFrame final:\n"
     ]
    },
    {
     "name": "stderr",
     "output_type": "stream",
     "text": [
      "[Stage 371:===============================================>         (5 + 1) / 6]\r"
     ]
    },
    {
     "name": "stdout",
     "output_type": "stream",
     "text": [
      "+-------+-----------------+\n",
      "|summary|         quantity|\n",
      "+-------+-----------------+\n",
      "|  count|          6423880|\n",
      "|   mean|8.290080294152444|\n",
      "| stddev| 81.2568283392018|\n",
      "|    min|                0|\n",
      "|    max|            94230|\n",
      "+-------+-----------------+\n",
      "\n"
     ]
    },
    {
     "name": "stderr",
     "output_type": "stream",
     "text": [
      "                                                                                \r"
     ]
    }
   ],
   "source": [
    "from pyspark.sql.types import IntegerType\n",
    "# .withColumn() substitui a coluna existente pela nova versão convertida.\n",
    "df_vendas_final = df_vendas_reais.withColumn(\"quantity\", df_vendas_reais[\"quantity\"].cast(IntegerType()))\n",
    "\n",
    "# Agora, vamos verificar o schema e as estatísticas novamente para confirmar a mudança.\n",
    "print(\"\\nSchema do DataFrame final (após cast para inteiro):\")\n",
    "df_vendas_final.printSchema()\n",
    "\n",
    "print(\"\\nEstatísticas descritivas do DataFrame final:\")\n",
    "df_vendas_final.select(\"quantity\").describe().show()"
   ]
  },
  {
   "cell_type": "markdown",
   "id": "3f9c4464",
   "metadata": {},
   "source": [
    "acredito que apos todo esse tratamento, quantity está ok\n",
    "valores inteiros\n",
    "sem valores negativos (devolução)"
   ]
  },
  {
   "cell_type": "markdown",
   "id": "c3449c60",
   "metadata": {},
   "source": [
    "Análise das Dimensões Principais: PDV e Produto\n",
    "Agora, vamos entender os atores principais: os pontos de venda e os produtos.\n",
    "\n",
    "pergunta: quais são os produtos e PDVs mais vendidos? A venda está concentrada em poucos itens/lojas?\n",
    "\n",
    "Por que é útil? É provável que a \"Lei de Pareto\" (80/20) se aplique: uma minoria de produtos/PDVs é responsável pela maioria das vendas. Identificá-los é crucial. Talvez os produtos \"campeões de venda\" tenham um padrão de venda diferente dos produtos de \"cauda longa\"."
   ]
  },
  {
   "cell_type": "markdown",
   "id": "4cfcddeb",
   "metadata": {},
   "source": [
    "resumo de produtos cauda lojga:"
   ]
  }
 ],
 "metadata": {
  "kernelspec": {
   "display_name": "Python 3 (ipykernel)",
   "language": "python",
   "name": "python3"
  },
  "language_info": {
   "codemirror_mode": {
    "name": "ipython",
    "version": 3
   },
   "file_extension": ".py",
   "mimetype": "text/x-python",
   "name": "python",
   "nbconvert_exporter": "python",
   "pygments_lexer": "ipython3",
   "version": "3.12.3"
  }
 },
 "nbformat": 4,
 "nbformat_minor": 5
}
