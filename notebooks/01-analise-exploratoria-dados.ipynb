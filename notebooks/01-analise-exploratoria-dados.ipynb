{
 "cells": [
  {
   "cell_type": "code",
   "execution_count": 1,
   "id": "64430ab3",
   "metadata": {},
   "outputs": [
    {
     "name": "stderr",
     "output_type": "stream",
     "text": [
      "WARNING: Using incubator modules: jdk.incubator.vector\n",
      "Using Spark's default log4j profile: org/apache/spark/log4j2-defaults.properties\n",
      "25/09/18 22:34:21 WARN Utils: Your hostname, DESKTOP-GV5311B, resolves to a loopback address: 127.0.1.1; using 172.19.89.69 instead (on interface eth0)\n",
      "25/09/18 22:34:21 WARN Utils: Set SPARK_LOCAL_IP if you need to bind to another address\n",
      "Using Spark's default log4j profile: org/apache/spark/log4j2-defaults.properties\n",
      "Setting default log level to \"WARN\".\n",
      "To adjust logging level use sc.setLogLevel(newLevel). For SparkR, use setLogLevel(newLevel).\n",
      "25/09/18 22:34:23 WARN NativeCodeLoader: Unable to load native-hadoop library for your platform... using builtin-java classes where applicable\n",
      "                                                                                \r"
     ]
    },
    {
     "name": "stdout",
     "output_type": "stream",
     "text": [
      "root\n",
      " |-- internal_store_id: string (nullable = true)\n",
      " |-- internal_product_id: string (nullable = true)\n",
      " |-- distributor_id: string (nullable = true)\n",
      " |-- transaction_date: date (nullable = true)\n",
      " |-- reference_date: date (nullable = true)\n",
      " |-- quantity: double (nullable = true)\n",
      " |-- gross_value: double (nullable = true)\n",
      " |-- net_value: double (nullable = true)\n",
      " |-- gross_profit: double (nullable = true)\n",
      " |-- discount: double (nullable = true)\n",
      " |-- taxes: double (nullable = true)\n",
      "\n"
     ]
    },
    {
     "name": "stderr",
     "output_type": "stream",
     "text": [
      "                                                                                \r"
     ]
    },
    {
     "name": "stdout",
     "output_type": "stream",
     "text": [
      "+-------------------+-------------------+--------------+----------------+--------------+--------+------------------+------------------+------------------+------------------+------------------+\n",
      "|  internal_store_id|internal_product_id|distributor_id|transaction_date|reference_date|quantity|       gross_value|         net_value|      gross_profit|          discount|             taxes|\n",
      "+-------------------+-------------------+--------------+----------------+--------------+--------+------------------+------------------+------------------+------------------+------------------+\n",
      "|7384367747233276219| 328903483604537190|             9|      2022-07-13|    2022-07-01|     1.0|            38.125|         37.890625|10.042625427246094| 3.950000047683716|          0.234375|\n",
      "|3536908514005606262|5418855670645487653|             5|      2022-03-21|    2022-03-01|     6.0|            107.25|106.44000244140625| 24.73200225830078|17.100000381469727|0.8100000023841858|\n",
      "|3138231730993449825|1087005562675741887|             6|      2022-09-06|    2022-09-01|     3.0|            56.625|56.220001220703125|14.124001502990723|              5.25|0.4050000011920929|\n",
      "|3681167389484217654|1401422983880045188|             5|      2022-09-11|    2022-09-01|   129.0|1037.1600227355957|1037.1600227355957| 156.3480257987976|  479.880006313324|               0.0|\n",
      "|7762413312337359369|6614994347738381720|             4|      2022-02-18|    2022-02-01|     1.0|26.229999542236328|23.950241088867188| 6.550240993499756|               0.0|2.2797579765319824|\n",
      "+-------------------+-------------------+--------------+----------------+--------------+--------+------------------+------------------+------------------+------------------+------------------+\n",
      "only showing top 5 rows\n",
      "root\n",
      " |-- produto: string (nullable = true)\n",
      " |-- categoria: string (nullable = true)\n",
      " |-- descricao: string (nullable = true)\n",
      " |-- tipos: string (nullable = true)\n",
      " |-- label: string (nullable = true)\n",
      " |-- subcategoria: string (nullable = true)\n",
      " |-- marca: string (nullable = true)\n",
      " |-- fabricante: string (nullable = true)\n",
      "\n",
      "+-------------------+-----------------+--------------------+-----------------+-------------+-------------------+--------------------+--------------------+\n",
      "|            produto|        categoria|           descricao|            tipos|        label|       subcategoria|               marca|          fabricante|\n",
      "+-------------------+-----------------+--------------------+-----------------+-------------+-------------------+--------------------+--------------------+\n",
      "|2282334733936076502|Distilled Spirits|JOSEPH CARTRON CA...|Distilled Spirits|         Core|Liqueurs & Cordials| Joseph Cartron Cafe|            Spiribam|\n",
      "|6091840953834683482|Distilled Spirits|SPRINGBANK 18 YEA...|Distilled Spirits|    Specialty|      Scotch Whisky|Springbank 18 Yea...|Pacific Edge Wine...|\n",
      "|1968645851245092408|Distilled Spirits|J BRANDT TRIPLE S...|Distilled Spirits|Private Label|Liqueurs & Cordials| J Brandt Triple Sec|     Sazerac Spirits|\n",
      "| 994706710729219179|            Draft|REFORMATION CASHM...|            Draft|       In&Out|        Other Draft|Reformation Cashm...| Reformation Brewery|\n",
      "|9209550539540384349|      Non-Alcohol|HELLA MOSCOW MULE...|      Non Alcohol|         Core|             Mixers|Hella Bitters Blo...|    Hella Bitter Llc|\n",
      "+-------------------+-----------------+--------------------+-----------------+-------------+-------------------+--------------------+--------------------+\n",
      "only showing top 5 rows\n",
      "root\n",
      " |-- pdv: string (nullable = true)\n",
      " |-- premise: string (nullable = true)\n",
      " |-- categoria_pdv: string (nullable = true)\n",
      " |-- zipcode: integer (nullable = true)\n",
      "\n",
      "+-------------------+-----------+-------------+-------+\n",
      "|                pdv|    premise|categoria_pdv|zipcode|\n",
      "+-------------------+-----------+-------------+-------+\n",
      "|2204965430669363375| On Premise| Mexican Rest|  30741|\n",
      "|5211957289528622910| On Premise|  Hotel/Motel|  80011|\n",
      "|9024493554530757353|Off Premise|  Convenience|  80751|\n",
      "|8659197371382902429| On Premise|   Restaurant|  80439|\n",
      "|1400854873763881130| On Premise|   Restaurant|  30093|\n",
      "+-------------------+-----------+-------------+-------+\n",
      "only showing top 5 rows\n"
     ]
    }
   ],
   "source": [
    "from pyspark.sql import SparkSession\n",
    "\n",
    "spark = SparkSession.builder.appName(\"PrevisaoVendasHackathon\").getOrCreate()\n",
    "\n",
    "df_transacoes = spark.read.parquet(\"dados/transacoes.parquet\")\n",
    "df_produtos = spark.read.parquet(\"dados/cadastroprodutos.parquet\")\n",
    "df_pdvs = spark.read.parquet(\"dados/cadastropdv.parquet\")\n",
    "\n",
    "df_transacoes.printSchema()\n",
    "df_transacoes.show(5)\n",
    "df_produtos.printSchema()\n",
    "df_produtos.show(5)\n",
    "df_pdvs.printSchema()\n",
    "df_pdvs.show(5) "
   ]
  },
  {
   "cell_type": "markdown",
   "id": "55ca74e4",
   "metadata": {},
   "source": [
    "#### Tratamento de Colunas com Nomes Duplicados: `categoria`\n",
    "\n",
    "**Problema Identificado:**\n",
    "Foi observado que tanto o DataFrame `df_produtos` quanto o `df_pdvs` possuem uma coluna com o mesmo nome: `categoria`.\n",
    "\n",
    "**Risco Potencial:**\n",
    "Manter nomes de colunas duplicados pode causar problemas de ambiguidade ao unir (fazer `join`) esses DataFrames. Se unirmos as tabelas, o DataFrame resultante terá duas colunas `categoria`, tornando difícil e propenso a erros referenciar a coluna correta em análises e transformações futuras.\n"
   ]
  },
  {
   "cell_type": "code",
   "execution_count": 2,
   "id": "d9064d54",
   "metadata": {},
   "outputs": [
    {
     "name": "stdout",
     "output_type": "stream",
     "text": [
      "+-------------------+-----------------+--------------------+-----------------+-------------+-------------------+--------------------+--------------------+\n",
      "|            produto|categoria_produto|           descricao|            tipos|        label|       subcategoria|               marca|          fabricante|\n",
      "+-------------------+-----------------+--------------------+-----------------+-------------+-------------------+--------------------+--------------------+\n",
      "|2282334733936076502|Distilled Spirits|JOSEPH CARTRON CA...|Distilled Spirits|         Core|Liqueurs & Cordials| Joseph Cartron Cafe|            Spiribam|\n",
      "|6091840953834683482|Distilled Spirits|SPRINGBANK 18 YEA...|Distilled Spirits|    Specialty|      Scotch Whisky|Springbank 18 Yea...|Pacific Edge Wine...|\n",
      "|1968645851245092408|Distilled Spirits|J BRANDT TRIPLE S...|Distilled Spirits|Private Label|Liqueurs & Cordials| J Brandt Triple Sec|     Sazerac Spirits|\n",
      "| 994706710729219179|            Draft|REFORMATION CASHM...|            Draft|       In&Out|        Other Draft|Reformation Cashm...| Reformation Brewery|\n",
      "|9209550539540384349|      Non-Alcohol|HELLA MOSCOW MULE...|      Non Alcohol|         Core|             Mixers|Hella Bitters Blo...|    Hella Bitter Llc|\n",
      "+-------------------+-----------------+--------------------+-----------------+-------------+-------------------+--------------------+--------------------+\n",
      "only showing top 5 rows\n",
      "+-------------------+-----------+-------------+-------+\n",
      "|                pdv|    premise|categoria_pdv|zipcode|\n",
      "+-------------------+-----------+-------------+-------+\n",
      "|2204965430669363375| On Premise| Mexican Rest|  30741|\n",
      "|5211957289528622910| On Premise|  Hotel/Motel|  80011|\n",
      "|9024493554530757353|Off Premise|  Convenience|  80751|\n",
      "|8659197371382902429| On Premise|   Restaurant|  80439|\n",
      "|1400854873763881130| On Premise|   Restaurant|  30093|\n",
      "+-------------------+-----------+-------------+-------+\n",
      "only showing top 5 rows\n"
     ]
    }
   ],
   "source": [
    "df_produtos_renomeado = df_produtos.withColumnRenamed(\"categoria\", \"categoria_produto\")\n",
    "df_pdvs_renomeado = df_pdvs.withColumnRenamed(\"categoria\", \"categoria_pdv\")\n",
    "\n",
    "df_produtos_renomeado.show(5)\n",
    "df_pdvs_renomeado.show(5)"
   ]
  },
  {
   "cell_type": "markdown",
   "id": "31e923a8",
   "metadata": {},
   "source": [
    "#### Unificação dos Dados: Junção das Tabelas de Transações, Produtos e PDVs\n",
    "\n",
    "Nesta etapa, consolidamos as informações de transações, produtos e pontos de venda (PDVs) em um único DataFrame chamado `df_completo`. Para isso, realizamos duas operações de junção (`join`):\n",
    "\n",
    "1.  **Junção com Dados dos Produtos:**\n",
    "    *   **Operação:** Unimos `df_transacoes` com `df_produtos_renomeado`.\n",
    "    *   **Chave:** `internal_product_id` (de transações) e `produto` (de produtos).\n",
    "    *   **Tipo:** `left join`. Isso garante que todas as transações sejam mantidas, mesmo que um produto não seja encontrado no cadastro. Nesses casos, as colunas de produto (`categoria_produto`, `descricao`, etc.) ficarão com valor `null`.\n",
    "\n",
    "2.  **Junção com Dados dos PDVs:**\n",
    "    *   **Operação:** O resultado da primeira junção é então unido com `df_pdvs_renomeado`.\n",
    "    *   **Chave:** `internal_store_id` (de transações) e `pdv` (de PDVs).\n",
    "    *   **Tipo:** `left join`. Da mesma forma, mantemos todas as transações, preenchendo com `null` as informações de PDVs não cadastrados.\n",
    "\n",
    "O resultado é um DataFrame enriquecido, onde cada linha de transação agora contém detalhes completos sobre o produto vendido e o ponto de venda onde a venda ocorreu."
   ]
  },
  {
   "cell_type": "code",
   "execution_count": 3,
   "id": "17722f33",
   "metadata": {},
   "outputs": [],
   "source": [
    "df_completo = df_transacoes.join(\n",
    "    df_produtos_renomeado,\n",
    "    df_transacoes[\"internal_product_id\"] == df_produtos_renomeado[\"produto\"], \n",
    "    \"left\"\n",
    ").join(\n",
    "    df_pdvs_renomeado,\n",
    "    df_transacoes[\"internal_store_id\"] == df_pdvs_renomeado[\"pdv\"],\n",
    "    \"left\"\n",
    ")"
   ]
  },
  {
   "cell_type": "code",
   "execution_count": 4,
   "id": "683c2ce5",
   "metadata": {},
   "outputs": [
    {
     "name": "stdout",
     "output_type": "stream",
     "text": [
      "Schema do DataFrame unificado:\n",
      "root\n",
      " |-- internal_store_id: string (nullable = true)\n",
      " |-- internal_product_id: string (nullable = true)\n",
      " |-- distributor_id: string (nullable = true)\n",
      " |-- transaction_date: date (nullable = true)\n",
      " |-- reference_date: date (nullable = true)\n",
      " |-- quantity: double (nullable = true)\n",
      " |-- gross_value: double (nullable = true)\n",
      " |-- net_value: double (nullable = true)\n",
      " |-- gross_profit: double (nullable = true)\n",
      " |-- discount: double (nullable = true)\n",
      " |-- taxes: double (nullable = true)\n",
      " |-- produto: string (nullable = true)\n",
      " |-- categoria_produto: string (nullable = true)\n",
      " |-- descricao: string (nullable = true)\n",
      " |-- tipos: string (nullable = true)\n",
      " |-- label: string (nullable = true)\n",
      " |-- subcategoria: string (nullable = true)\n",
      " |-- marca: string (nullable = true)\n",
      " |-- fabricante: string (nullable = true)\n",
      " |-- pdv: string (nullable = true)\n",
      " |-- premise: string (nullable = true)\n",
      " |-- categoria_pdv: string (nullable = true)\n",
      " |-- zipcode: integer (nullable = true)\n",
      "\n",
      "\n",
      "Amostra dos dados unificados:\n",
      "+-------------------+-------------------+--------------+----------------+--------------+--------+------------------+------------------+------------------+------------------+------------------+-------------------+-----------------+--------------------+-----------------+-----+-------------------+--------------------+--------------------+-------------------+-----------+--------------+-------+\n",
      "|  internal_store_id|internal_product_id|distributor_id|transaction_date|reference_date|quantity|       gross_value|         net_value|      gross_profit|          discount|             taxes|            produto|categoria_produto|           descricao|            tipos|label|       subcategoria|               marca|          fabricante|                pdv|    premise| categoria_pdv|zipcode|\n",
      "+-------------------+-------------------+--------------+----------------+--------------+--------+------------------+------------------+------------------+------------------+------------------+-------------------+-----------------+--------------------+-----------------+-----+-------------------+--------------------+--------------------+-------------------+-----------+--------------+-------+\n",
      "|7384367747233276219| 328903483604537190|             9|      2022-07-13|    2022-07-01|     1.0|            38.125|         37.890625|10.042625427246094| 3.950000047683716|          0.234375| 328903483604537190|          Package|BUD LIGHT CHELADA...|          Package| Core|          Specialty|Bud Light Chelada...|AB Anheuser Busch...|7384367747233276219|Off Premise|Package/Liquor|  80905|\n",
      "|3536908514005606262|5418855670645487653|             5|      2022-03-21|    2022-03-01|     6.0|            107.25|106.44000244140625| 24.73200225830078|17.100000381469727|0.8100000023841858|5418855670645487653|          Package|MICHELOB ULTRA 18...|          Package| Core|              Lager|      Michelob Ultra|AB Anheuser Busch...|3536908514005606262|Off Premise|Package/Liquor|  80239|\n",
      "|3138231730993449825|1087005562675741887|             6|      2022-09-06|    2022-09-01|     3.0|            56.625|56.220001220703125|14.124001502990723|              5.25|0.4050000011920929|1087005562675741887|          Package|BUD LIGHT LIME 18...|          Package| Core|              Lager|      Bud Light Lime|AB Anheuser Busch...|3138231730993449825|Off Premise|Package/Liquor|  80634|\n",
      "|3681167389484217654|1401422983880045188|             5|      2022-09-11|    2022-09-01|   129.0|1037.1600227355957|1037.1600227355957| 156.3480257987976|  479.880006313324|               0.0|1401422983880045188|Distilled Spirits|99 BUTTERSCOTCH 1...|Allocated Spirits| NULL|Liqueurs & Cordials|     99 Butterscotch|     Sazerac Spirits|3681167389484217654|Off Premise|Package/Liquor|  80226|\n",
      "|7762413312337359369|6614994347738381720|             4|      2022-02-18|    2022-02-01|     1.0|26.229999542236328|23.950241088867188| 6.550240993499756|               0.0|2.2797579765319824|6614994347738381720|          Package|NB VOODOO RANGER ...|          Package| Core|                IPA|New Belgium Voodo...|      NB New Belgium|7762413312337359369|Off Premise|   Convenience|  30096|\n",
      "+-------------------+-------------------+--------------+----------------+--------------+--------+------------------+------------------+------------------+------------------+------------------+-------------------+-----------------+--------------------+-----------------+-----+-------------------+--------------------+--------------------+-------------------+-----------+--------------+-------+\n",
      "only showing top 5 rows\n"
     ]
    },
    {
     "name": "stderr",
     "output_type": "stream",
     "text": [
      "                                                                                \r"
     ]
    }
   ],
   "source": [
    "print(\"Schema do DataFrame unificado:\")\n",
    "df_completo.printSchema()\n",
    "\n",
    "print(\"\\nAmostra dos dados unificados:\")\n",
    "df_completo.show(5)"
   ]
  },
  {
   "cell_type": "markdown",
   "id": "352c7f0e",
   "metadata": {},
   "source": [
    "#### Limpeza Pós-Junção: Remoção de Colunas de ID Redundantes\n",
    "\n",
    "**Contexto:**\n",
    "Após a unificação dos DataFrames, o `df_completo` resultante contém as colunas que foram utilizadas como chaves para a junção. Especificamente:\n",
    "-   A coluna `produto` (vinda de `df_produtos_renomeado`) é idêntica à `internal_product_id`.\n",
    "-   A coluna `pdv` (vinda de `df_pdvs_renomeado`) é idêntica à `internal_store_id`.\n",
    "\n",
    "**Ação Proposta:**\n",
    "Para manter o conjunto de dados limpo e evitar redundância, as colunas `produto` e `pdv` serão removidas. Essa prática simplifica o schema do DataFrame, tornando-o mais fácil de ser compreendido e manipulado nas etapas seguintes de análise e modelagem."
   ]
  },
  {
   "cell_type": "code",
   "execution_count": 5,
   "id": "7b880c9d",
   "metadata": {},
   "outputs": [],
   "source": [
    "df_completo = df_completo.drop(\"produto\").drop(\"pdv\")"
   ]
  },
  {
   "cell_type": "code",
   "execution_count": 6,
   "id": "b7fac893",
   "metadata": {},
   "outputs": [
    {
     "name": "stdout",
     "output_type": "stream",
     "text": [
      "Schema do DataFrame unificado:\n",
      "root\n",
      " |-- internal_store_id: string (nullable = true)\n",
      " |-- internal_product_id: string (nullable = true)\n",
      " |-- distributor_id: string (nullable = true)\n",
      " |-- transaction_date: date (nullable = true)\n",
      " |-- reference_date: date (nullable = true)\n",
      " |-- quantity: double (nullable = true)\n",
      " |-- gross_value: double (nullable = true)\n",
      " |-- net_value: double (nullable = true)\n",
      " |-- gross_profit: double (nullable = true)\n",
      " |-- discount: double (nullable = true)\n",
      " |-- taxes: double (nullable = true)\n",
      " |-- categoria_produto: string (nullable = true)\n",
      " |-- descricao: string (nullable = true)\n",
      " |-- tipos: string (nullable = true)\n",
      " |-- label: string (nullable = true)\n",
      " |-- subcategoria: string (nullable = true)\n",
      " |-- marca: string (nullable = true)\n",
      " |-- fabricante: string (nullable = true)\n",
      " |-- premise: string (nullable = true)\n",
      " |-- categoria_pdv: string (nullable = true)\n",
      " |-- zipcode: integer (nullable = true)\n",
      "\n",
      "\n",
      "Amostra dos dados unificados:\n",
      "+-------------------+-------------------+--------------+----------------+--------------+--------+------------------+------------------+------------------+------------------+------------------+-----------------+--------------------+-----------------+-----+-------------------+--------------------+--------------------+-----------+--------------+-------+\n",
      "|  internal_store_id|internal_product_id|distributor_id|transaction_date|reference_date|quantity|       gross_value|         net_value|      gross_profit|          discount|             taxes|categoria_produto|           descricao|            tipos|label|       subcategoria|               marca|          fabricante|    premise| categoria_pdv|zipcode|\n",
      "+-------------------+-------------------+--------------+----------------+--------------+--------+------------------+------------------+------------------+------------------+------------------+-----------------+--------------------+-----------------+-----+-------------------+--------------------+--------------------+-----------+--------------+-------+\n",
      "|7384367747233276219| 328903483604537190|             9|      2022-07-13|    2022-07-01|     1.0|            38.125|         37.890625|10.042625427246094| 3.950000047683716|          0.234375|          Package|BUD LIGHT CHELADA...|          Package| Core|          Specialty|Bud Light Chelada...|AB Anheuser Busch...|Off Premise|Package/Liquor|  80905|\n",
      "|3536908514005606262|5418855670645487653|             5|      2022-03-21|    2022-03-01|     6.0|            107.25|106.44000244140625| 24.73200225830078|17.100000381469727|0.8100000023841858|          Package|MICHELOB ULTRA 18...|          Package| Core|              Lager|      Michelob Ultra|AB Anheuser Busch...|Off Premise|Package/Liquor|  80239|\n",
      "|3138231730993449825|1087005562675741887|             6|      2022-09-06|    2022-09-01|     3.0|            56.625|56.220001220703125|14.124001502990723|              5.25|0.4050000011920929|          Package|BUD LIGHT LIME 18...|          Package| Core|              Lager|      Bud Light Lime|AB Anheuser Busch...|Off Premise|Package/Liquor|  80634|\n",
      "|3681167389484217654|1401422983880045188|             5|      2022-09-11|    2022-09-01|   129.0|1037.1600227355957|1037.1600227355957| 156.3480257987976|  479.880006313324|               0.0|Distilled Spirits|99 BUTTERSCOTCH 1...|Allocated Spirits| NULL|Liqueurs & Cordials|     99 Butterscotch|     Sazerac Spirits|Off Premise|Package/Liquor|  80226|\n",
      "|7762413312337359369|6614994347738381720|             4|      2022-02-18|    2022-02-01|     1.0|26.229999542236328|23.950241088867188| 6.550240993499756|               0.0|2.2797579765319824|          Package|NB VOODOO RANGER ...|          Package| Core|                IPA|New Belgium Voodo...|      NB New Belgium|Off Premise|   Convenience|  30096|\n",
      "+-------------------+-------------------+--------------+----------------+--------------+--------+------------------+------------------+------------------+------------------+------------------+-----------------+--------------------+-----------------+-----+-------------------+--------------------+--------------------+-----------+--------------+-------+\n",
      "only showing top 5 rows\n"
     ]
    },
    {
     "name": "stderr",
     "output_type": "stream",
     "text": [
      "                                                                                \r"
     ]
    }
   ],
   "source": [
    "print(\"Schema do DataFrame unificado:\")\n",
    "df_completo.printSchema()\n",
    "\n",
    "print(\"\\nAmostra dos dados unificados:\")\n",
    "df_completo.show(5)"
   ]
  },
  {
   "cell_type": "code",
   "execution_count": 7,
   "id": "3e762bef",
   "metadata": {},
   "outputs": [
    {
     "name": "stderr",
     "output_type": "stream",
     "text": [
      "                                                                                \r"
     ]
    },
    {
     "name": "stdout",
     "output_type": "stream",
     "text": [
      "Número total de transações em 2022: 6560698\n",
      "\n",
      "Contagem de valores nulos após o join:\n"
     ]
    },
    {
     "name": "stderr",
     "output_type": "stream",
     "text": [
      "[Stage 24:================================================>         (5 + 1) / 6]\r"
     ]
    },
    {
     "name": "stdout",
     "output_type": "stream",
     "text": [
      "+-----------------+-------------+-------+\n",
      "|categoria_produto|categoria_pdv|zipcode|\n",
      "+-----------------+-------------+-------+\n",
      "|                0|        45582|  45582|\n",
      "+-----------------+-------------+-------+\n",
      "\n"
     ]
    },
    {
     "name": "stderr",
     "output_type": "stream",
     "text": [
      "                                                                                \r"
     ]
    }
   ],
   "source": [
    "#verificacoes basicas de quantidade e integridade\n",
    "from pyspark.sql.functions import col, count, when, isnan, isnull\n",
    "\n",
    "#tamanho do dataset\n",
    "total_transacoes = df_completo.count()\n",
    "print(f\"Número total de transações em 2022: {total_transacoes}\")\n",
    "\n",
    "#verificar se os joins criaram valores nulos(o que indicaria transações com produtos ou PDVs não cadastrados)\n",
    "# a quantidade que der null (join falhou), significa que as transacoes são vendas de lojas \"fantasmas\" ou não cadastradas\n",
    "# venda sem ponto de venda\n",
    "print(\"\\nContagem de valores nulos após o join:\")\n",
    "df_completo.select([\n",
    "    count(when(isnull(c), c)).alias(c) for c in [\"categoria_produto\", \"categoria_pdv\", \"zipcode\"]\n",
    "]).show()"
   ]
  },
  {
   "cell_type": "markdown",
   "id": "6c714c42",
   "metadata": {},
   "source": [
    "#### Tratamento de Transações com PDVs Não Cadastrados\n",
    "\n",
    "**Análise do Problema:**\n",
    "A contagem de valores nulos na célula anterior revelou que **45.582 transações** não possuem informações correspondentes de Ponto de Venda (PDV), como `categoria_pdv` e `zipcode`. Isso significa que o `left join` entre as transações e o cadastro de PDVs não encontrou uma correspondência para essas vendas.\n",
    "\n",
    "**Impacto no Conjunto de Dados:**\n",
    "Essas 45.582 linhas representam aproximadamente **0.7%** do total de transações (6.560.698). Trata-se de uma fração muito pequena do volume total de dados.\n",
    "\n",
    "**Opções de Tratamento:**\n",
    "\n",
    "1.  **Remoção das Linhas:**\n",
    "    *   **Prós:** É uma abordagem simples e segura. Garante que o modelo de previsão treinará apenas com dados completos e consistentes, onde cada venda está associada a um PDV conhecido.\n",
    "    *   **Contras:** Perda de uma pequena quantidade de dados de transação.\n",
    "\n",
    "2.  **Imputação de Dados:**\n",
    "    *   **Prós:** Mantém o número total de transações.\n",
    "    *   **Contras:** Seria difícil e arriscado atribuir um PDV a essas vendas. Uma imputação inadequada (ex: usar um valor como \"Desconhecido\") poderia introduzir ruído e vieses no modelo, prejudicando sua precisão.\n",
    "\n",
    "**Decisão:**\n",
    "Dado que o percentual de dados afetados é mínimo e o risco de introduzir informações incorretas com a imputação é alto, a abordagem mais prudente é **remover as linhas** com informações de PDV ausentes. Essa ação garantirá a integridade do dataset para as próximas etapas de análise e modelagem, com um impacto insignificante na quantidade total de dados."
   ]
  },
  {
   "cell_type": "code",
   "execution_count": 8,
   "id": "62c2d770",
   "metadata": {},
   "outputs": [
    {
     "name": "stderr",
     "output_type": "stream",
     "text": [
      "                                                                                \r"
     ]
    },
    {
     "name": "stdout",
     "output_type": "stream",
     "text": [
      "Tamanho original: 6560698\n"
     ]
    },
    {
     "name": "stderr",
     "output_type": "stream",
     "text": [
      "[Stage 34:================================================>         (5 + 1) / 6]\r"
     ]
    },
    {
     "name": "stdout",
     "output_type": "stream",
     "text": [
      "Tamanho após limpeza: 6515116\n"
     ]
    },
    {
     "name": "stderr",
     "output_type": "stream",
     "text": [
      "                                                                                \r"
     ]
    }
   ],
   "source": [
    "df_completo_limpo = df_completo.na.drop(subset=[\"categoria_pdv\"])\n",
    "\n",
    "print(f\"Tamanho original: {df_completo.count()}\")\n",
    "print(f\"Tamanho após limpeza: {df_completo_limpo.count()}\")"
   ]
  },
  {
   "cell_type": "code",
   "execution_count": 9,
   "id": "68fb36c6",
   "metadata": {},
   "outputs": [
    {
     "name": "stdout",
     "output_type": "stream",
     "text": [
      "root\n",
      " |-- internal_store_id: string (nullable = true)\n",
      " |-- internal_product_id: string (nullable = true)\n",
      " |-- distributor_id: string (nullable = true)\n",
      " |-- transaction_date: date (nullable = true)\n",
      " |-- reference_date: date (nullable = true)\n",
      " |-- quantity: double (nullable = true)\n",
      " |-- gross_value: double (nullable = true)\n",
      " |-- net_value: double (nullable = true)\n",
      " |-- gross_profit: double (nullable = true)\n",
      " |-- discount: double (nullable = true)\n",
      " |-- taxes: double (nullable = true)\n",
      " |-- categoria_produto: string (nullable = true)\n",
      " |-- descricao: string (nullable = true)\n",
      " |-- tipos: string (nullable = true)\n",
      " |-- label: string (nullable = true)\n",
      " |-- subcategoria: string (nullable = true)\n",
      " |-- marca: string (nullable = true)\n",
      " |-- fabricante: string (nullable = true)\n",
      " |-- premise: string (nullable = true)\n",
      " |-- categoria_pdv: string (nullable = true)\n",
      " |-- zipcode: integer (nullable = true)\n",
      "\n"
     ]
    },
    {
     "name": "stderr",
     "output_type": "stream",
     "text": [
      "[Stage 40:===========================================>              (3 + 1) / 4]\r"
     ]
    },
    {
     "name": "stdout",
     "output_type": "stream",
     "text": [
      "+-------------------+-------------------+--------------+----------------+--------------+--------+------------------+------------------+------------------+------------------+------------------+-----------------+--------------------+-----------------+-----+-------------------+--------------------+--------------------+-----------+--------------+-------+\n",
      "|  internal_store_id|internal_product_id|distributor_id|transaction_date|reference_date|quantity|       gross_value|         net_value|      gross_profit|          discount|             taxes|categoria_produto|           descricao|            tipos|label|       subcategoria|               marca|          fabricante|    premise| categoria_pdv|zipcode|\n",
      "+-------------------+-------------------+--------------+----------------+--------------+--------+------------------+------------------+------------------+------------------+------------------+-----------------+--------------------+-----------------+-----+-------------------+--------------------+--------------------+-----------+--------------+-------+\n",
      "|7384367747233276219| 328903483604537190|             9|      2022-07-13|    2022-07-01|     1.0|            38.125|         37.890625|10.042625427246094| 3.950000047683716|          0.234375|          Package|BUD LIGHT CHELADA...|          Package| Core|          Specialty|Bud Light Chelada...|AB Anheuser Busch...|Off Premise|Package/Liquor|  80905|\n",
      "|3536908514005606262|5418855670645487653|             5|      2022-03-21|    2022-03-01|     6.0|            107.25|106.44000244140625| 24.73200225830078|17.100000381469727|0.8100000023841858|          Package|MICHELOB ULTRA 18...|          Package| Core|              Lager|      Michelob Ultra|AB Anheuser Busch...|Off Premise|Package/Liquor|  80239|\n",
      "|3138231730993449825|1087005562675741887|             6|      2022-09-06|    2022-09-01|     3.0|            56.625|56.220001220703125|14.124001502990723|              5.25|0.4050000011920929|          Package|BUD LIGHT LIME 18...|          Package| Core|              Lager|      Bud Light Lime|AB Anheuser Busch...|Off Premise|Package/Liquor|  80634|\n",
      "|3681167389484217654|1401422983880045188|             5|      2022-09-11|    2022-09-01|   129.0|1037.1600227355957|1037.1600227355957| 156.3480257987976|  479.880006313324|               0.0|Distilled Spirits|99 BUTTERSCOTCH 1...|Allocated Spirits| NULL|Liqueurs & Cordials|     99 Butterscotch|     Sazerac Spirits|Off Premise|Package/Liquor|  80226|\n",
      "|7762413312337359369|6614994347738381720|             4|      2022-02-18|    2022-02-01|     1.0|26.229999542236328|23.950241088867188| 6.550240993499756|               0.0|2.2797579765319824|          Package|NB VOODOO RANGER ...|          Package| Core|                IPA|New Belgium Voodo...|      NB New Belgium|Off Premise|   Convenience|  30096|\n",
      "+-------------------+-------------------+--------------+----------------+--------------+--------+------------------+------------------+------------------+------------------+------------------+-----------------+--------------------+-----------------+-----+-------------------+--------------------+--------------------+-----------+--------------+-------+\n",
      "only showing top 5 rows\n"
     ]
    },
    {
     "name": "stderr",
     "output_type": "stream",
     "text": [
      "                                                                                \r"
     ]
    }
   ],
   "source": [
    "df_completo_limpo.printSchema()\n",
    "df_completo_limpo.show(5)"
   ]
  },
  {
   "cell_type": "markdown",
   "id": "f48aa98f",
   "metadata": {},
   "source": [
    "#### Foco da Análise Exploratória: Dimensões-Chave para a Previsão\n",
    "\n",
    "O objetivo central deste projeto é prever a **quantidade de vendas semanal** para cada **produto (SKU)** em cada **Ponto de Venda (PDV)**.\n",
    "\n",
    "Portanto, nossa Análise Exploratória de Dados (EDA) será direcionada para encontrar padrões e insights relacionados a três dimensões fundamentais:\n",
    "\n",
    "-   **O Quê? (`quantity`)**: A quantidade de produtos vendidos em cada transação. Analisaremos sua distribuição, outliers e comportamento geral.\n",
    "-   **Onde? (`internal_store_id`)**: O ponto de venda onde a transação ocorreu. Investigaremos a concentração de vendas por loja e possíveis padrões geográficos ou de categoria de PDV.\n",
    "-   **Quando? (`transaction_date`)**: A data da transação. Exploraremos sazonalidades, tendências ao longo do tempo e padrões semanais, que são cruciais para a modelagem de séries temporais.\n",
    "\n",
    "A análise focada nessas três dimensões nos permitirá extrair as características (features) mais relevantes para construir um modelo de previsão preciso."
   ]
  },
  {
   "cell_type": "markdown",
   "id": "1a77e7a7",
   "metadata": {},
   "source": [
    "#### Análise da Variável Alvo: `quantity`\n",
    "\n",
    "Nossa primeira investigação foca na variável `quantity`, que representa a quantidade de itens vendidos por transação. O objetivo é entender sua distribuição estatística e identificar possíveis anomalias.\n",
    "\n",
    "**Questões a serem respondidas:**\n",
    "-   Qual é a distribuição das quantidades vendidas?\n",
    "-   Existem valores atípicos (outliers) que possam distorcer a análise ou o modelo?\n"
   ]
  },
  {
   "cell_type": "code",
   "execution_count": 10,
   "id": "a50fa52f",
   "metadata": {},
   "outputs": [
    {
     "name": "stderr",
     "output_type": "stream",
     "text": [
      "[Stage 43:================================================>         (5 + 1) / 6]\r"
     ]
    },
    {
     "name": "stdout",
     "output_type": "stream",
     "text": [
      "+-------+-----------------+\n",
      "|summary|         quantity|\n",
      "+-------+-----------------+\n",
      "|  count|          6515116|\n",
      "|   mean|8.149641143197064|\n",
      "| stddev|80.71476955086146|\n",
      "|    min|          -1530.0|\n",
      "|    max|          94230.0|\n",
      "+-------+-----------------+\n",
      "\n"
     ]
    },
    {
     "name": "stderr",
     "output_type": "stream",
     "text": [
      "                                                                                \r"
     ]
    }
   ],
   "source": [
    "\n",
    "df_completo_limpo.select(\"quantity\").describe().show()\n",
    "# quantity que significa a quantidade vendida por CADA transacao "
   ]
  },
  {
   "cell_type": "markdown",
   "id": "b8973a32",
   "metadata": {},
   "source": [
    "#### Análise das Estatísticas Descritivas de `quantity`\n",
    "\n",
    "\n",
    "**Observações Principais:**\n",
    "\n",
    "*   **Alta Variabilidade e Outliers:**\n",
    "    *   A **média** de itens por transação é de aproximadamente **8**.\n",
    "    *   O **desvio padrão** é superior a **80**, mais de 10 vezes o valor da média. Essa disparidade indica uma enorme variabilidade nos dados e a presença de outliers extremos.\n",
    "    *   O **valor máximo** registrado é de quase **100.000** itens em uma única transação. Isso sugere que o dataset pode conter não apenas vendas a consumidores finais, mas também transações de maior volume, como vendas B2B ou movimentações entre centros de distribuição.\n",
    "\n",
    "*   **Presença de Devoluções:**\n",
    "    *   O **valor mínimo** é negativo, indicando a existência de transações de devolução ou estorno.\n",
    "\n",
    "**Decisões e Próximos Passos:**\n",
    "\n",
    "Para garantir que o modelo de previsão seja treinado com dados representativos de vendas reais, é necessário tratar as anomalias identificadas:\n",
    "\n",
    "1.  **Remover Devoluções:** As transações com `quantity` negativa ou nula não representam vendas e devem ser removidas. Elas introduzem ruído e não contribuem para o objetivo de prever vendas futuras. A célula seguinte executará essa filtragem.\n"
   ]
  },
  {
   "cell_type": "code",
   "execution_count": 11,
   "id": "994ac796",
   "metadata": {},
   "outputs": [
    {
     "name": "stderr",
     "output_type": "stream",
     "text": [
      "                                                                                \r"
     ]
    },
    {
     "name": "stdout",
     "output_type": "stream",
     "text": [
      "Tamanho do DataFrame antes de filtrar as quantidades: 6515116\n"
     ]
    },
    {
     "name": "stderr",
     "output_type": "stream",
     "text": [
      "                                                                                \r"
     ]
    },
    {
     "name": "stdout",
     "output_type": "stream",
     "text": [
      "Tamanho do DataFrame após filtrar (apenas vendas reais): 6423880\n"
     ]
    },
    {
     "name": "stderr",
     "output_type": "stream",
     "text": [
      "                                                                                \r"
     ]
    },
    {
     "name": "stdout",
     "output_type": "stream",
     "text": [
      "Número de transações removidas (quantidade <= 0): 91236\n",
      "\n",
      "Estatísticas descritivas apenas para vendas reais:\n"
     ]
    },
    {
     "name": "stderr",
     "output_type": "stream",
     "text": [
      "[Stage 68:================================================>         (5 + 1) / 6]\r"
     ]
    },
    {
     "name": "stdout",
     "output_type": "stream",
     "text": [
      "+-------+--------------------+\n",
      "|summary|            quantity|\n",
      "+-------+--------------------+\n",
      "|  count|             6423880|\n",
      "|   mean|   8.298247866619342|\n",
      "| stddev|   81.26202216095105|\n",
      "|    min|1.192092895507812...|\n",
      "|    max|             94230.0|\n",
      "+-------+--------------------+\n",
      "\n"
     ]
    },
    {
     "name": "stderr",
     "output_type": "stream",
     "text": [
      "                                                                                \r"
     ]
    }
   ],
   "source": [
    "\n",
    "print(f\"Tamanho do DataFrame antes de filtrar as quantidades: {df_completo_limpo.count()}\")\n",
    "\n",
    "# Filtra o DataFrame para manter apenas as linhas onde a quantidade é maior que zero\n",
    "df_vendas_reais = df_completo_limpo.filter(df_completo_limpo[\"quantity\"] > 0)\n",
    "\n",
    "print(f\"Tamanho do DataFrame após filtrar (apenas vendas reais): {df_vendas_reais.count()}\")\n",
    "\n",
    "quantidade_removida = df_completo_limpo.count() - df_vendas_reais.count()\n",
    "print(f\"Número de transações removidas (quantidade <= 0): {quantidade_removida}\")\n",
    "\n",
    "# Agora, vamos rodar as estatísticas descritivas novamente neste novo DataFrame limpo\n",
    "print(\"\\nEstatísticas descritivas apenas para vendas reais:\")\n",
    "df_vendas_reais.select(\"quantity\").describe().show()"
   ]
  },
  {
   "cell_type": "markdown",
   "id": "60d0b4ff",
   "metadata": {},
   "source": [
    "#### Investigação de Quantidades Fracionadas\n",
    "\n",
    "Após a remoção das devoluções, a análise estatística da coluna `quantity` ainda apresenta uma peculiaridade: o valor mínimo não é um número inteiro. Isso é inesperado, pois a quantidade de produtos vendidos geralmente é contada em unidades inteiras.\n",
    "\n",
    "**Hipótese:**\n",
    "Existem duas possibilidades principais para a ocorrência de valores fracionados:\n",
    "\n",
    "1.  **Vendas por Peso/Volume:** O conjunto de dados pode incluir produtos que são vendidos por peso ou volume (ex: frutas, frios, produtos a granel), onde quantidades como `0.5` kg são perfeitamente válidas.\n",
    "2.  **Ruído no Tipo de Dado:** Os valores podem ser resultado de imprecisões de ponto flutuante (tipo `double`), onde um valor que deveria ser `5` é armazenado como `5.00000001`.\n"
   ]
  },
  {
   "cell_type": "code",
   "execution_count": 12,
   "id": "ef85c6a0",
   "metadata": {},
   "outputs": [
    {
     "name": "stdout",
     "output_type": "stream",
     "text": [
      "95346 transações com quantidades que não são inteiras.\n",
      "amostra:\n",
      "+------------------+-----------------+--------------------------------------------------------------+\n",
      "|quantity          |categoria_produto|descricao                                                     |\n",
      "+------------------+-----------------+--------------------------------------------------------------+\n",
      "|45.9999897480011  |Distilled Spirits|BLANTON'S BOURBON 6/750ML 93PF                                |\n",
      "|14.000010132789612|Distilled Spirits|CARAVELLA LIMONCELLO 6/750ML 56PF                             |\n",
      "|139.99979883432388|Distilled Spirits|FIREBALL 12/1L 66PF                                           |\n",
      "|79.00000804662704 |Distilled Spirits|FIREBALL 12/1L 66PF                                           |\n",
      "|5.9999880194664   |Distilled Spirits|GRAN GALA ORANGE LIQUEUR12/L 80PF                             |\n",
      "|83.0000039935112  |Distilled Spirits|PEYCHAUD'S APERTIVO 12/750ML 22PF                             |\n",
      "|5.9999998807907104|Distilled Spirits|OLD RIP VAN WINKLE SPECIAL RESERVE 12YR BOURBON 3/750ML 90.4PF|\n",
      "|88.99999797344208 |Distilled Spirits|FIREFLY SWEET TEA 6/1.75L 70PF                                |\n",
      "|8.000004053115845 |Distilled Spirits|99 COCONUT 12/750ML (R13) 99PF                                |\n",
      "|147.99999594688416|Distilled Spirits|PAUL MASSON APPLE BRANDY 12/750ML 54PF                        |\n",
      "|88.00000810623169 |Distilled Spirits|WELLER SPECIAL RESERVE BOURBON 6/1.75ML 90PF                  |\n",
      "|91.99988496303558 |Distilled Spirits|BUFFALO TRACE BOURBON 12/1L 90PF                              |\n",
      "|14.99998825788498 |Distilled Spirits|WELLER SPECIAL RESERVE BOURBON 12/1L 90PF                     |\n",
      "|34.99998062849045 |Distilled Spirits|BUFFALO TRACE BOURBON 12/750ML 90PF                           |\n",
      "|130.00000846385956|Distilled Spirits|MR BOSTON PEACH SCHNAPPS 12/1L 30PF                           |\n",
      "|15.999996185302734|Distilled Spirits|MR BOSTON ENGLISH MARKET GIN 12/1L 80PF                       |\n",
      "|24.9999960064888  |Distilled Spirits|PAUL MASSON BRANDY VS 12/1L 80PF                              |\n",
      "|112.00000786781311|Distilled Spirits|PARROT BAY COCONUT RUM 6/1.75L PET 42PF                       |\n",
      "|63.999995946884155|Distilled Spirits|FIREBALL 6/1.75L 66PF                                         |\n",
      "|6.9999960064888   |Distilled Spirits|PARROT BAY COCONUT RUM 12/1L 90PF                             |\n",
      "+------------------+-----------------+--------------------------------------------------------------+\n",
      "only showing top 20 rows\n"
     ]
    }
   ],
   "source": [
    "from pyspark.sql.functions import col\n",
    "from pyspark.sql.types import IntegerType\n",
    "\n",
    "\n",
    "# filtragem do df para encontrar linhas onde a coluna 'quantity' não é um número inteiro\n",
    "# (quantity!= int(quantity)) faz exatamente essa verificação.\n",
    "df_quantidades_fracionadas = df_vendas_reais.filter(\n",
    "    col(\"quantity\")!= col(\"quantity\").cast(IntegerType())\n",
    ")\n",
    "\n",
    "contagem_fracionadas = df_quantidades_fracionadas.count()\n",
    "\n",
    "if contagem_fracionadas > 0:\n",
    "    print(f\"{contagem_fracionadas} transações com quantidades que não são inteiras.\")\n",
    "    print(\"amostra:\")\n",
    "    \n",
    "    df_quantidades_fracionadas.select(\"quantity\", \"categoria_produto\", \"descricao\").show(truncate=False)\n",
    "else:\n",
    "    print(\"nenhuma transação com quantidade fracionada foi encontrada.\")"
   ]
  },
  {
   "cell_type": "code",
   "execution_count": 13,
   "id": "6e434fbf",
   "metadata": {},
   "outputs": [
    {
     "name": "stdout",
     "output_type": "stream",
     "text": [
      "Exibindo 20 linhas aleatórias do DataFrame:\n",
      "+------------------+-----------------+--------------------+\n",
      "|          quantity|categoria_produto|           descricao|\n",
      "+------------------+-----------------+--------------------+\n",
      "| 7.999997973442078|Distilled Spirits|THOMAS S MOORE CH...|\n",
      "| 1.899999976158142|          Package|BUSCH LIGHT 30/12 CN|\n",
      "|               0.5|          Package|  BUDWEISER 12/32 NR|\n",
      "|2.0000040531158447|Distilled Spirits|BITTERMENS HELLFI...|\n",
      "|15.000000059604645|Distilled Spirits|PAUL MASSON APPLE...|\n",
      "| 70.99999797344208|Distilled Spirits|PAUL MASSON BRAND...|\n",
      "| 35.99999403953552|Distilled Spirits|BLANTON'S BOURBON...|\n",
      "| 6.000012159347534|Distilled Spirits|BENCHMARK NO 8 BO...|\n",
      "|   0.9999960064888|Distilled Spirits|HIGHLAND MIST SCO...|\n",
      "|26.000004053115845|Distilled Spirits|SEAGRAM'S VO CANA...|\n",
      "| 981.9999959468842|Distilled Spirits|PAUL MASSON BRAND...|\n",
      "|236.89583300054073|Distilled Spirits|PLATINUM 7X VODKA...|\n",
      "|   0.9999960064888|Distilled Spirits|SOUTHERN COMFORT ...|\n",
      "| 8.000004053115845|Distilled Spirits|TSMOORE CABERNET ...|\n",
      "| 37.99999165534973|Distilled Spirits|MR BOSTON PEACH S...|\n",
      "|32.000046610832214|Distilled Spirits|BLANTON'S BOURBON...|\n",
      "| 6.000006079673767|Distilled Spirits|EH TAYLOR JR SING...|\n",
      "|               0.5|          Package|YUENGLING LAGER 2...|\n",
      "| 5.000004053115845|Distilled Spirits|BUFFALO TRACE KOS...|\n",
      "| 3.000006079673767|Distilled Spirits|WELLER FULL PROOF...|\n",
      "+------------------+-----------------+--------------------+\n",
      "only showing top 20 rows\n"
     ]
    },
    {
     "name": "stderr",
     "output_type": "stream",
     "text": [
      "                                                                                \r"
     ]
    }
   ],
   "source": [
    "from pyspark.sql.functions import rand\n",
    "\n",
    "print(\"Exibindo 20 linhas aleatórias do DataFrame:\")\n",
    "\n",
    "# 1. orderBy(rand()) embaralha o DataFrame de forma aleatória.\n",
    "# 2. show(20) pega as 20 primeiras linhas do DataFrame já embaralhado.\n",
    "df_quantidades_fracionadas.orderBy(rand()).select(\"quantity\", \"categoria_produto\", \"descricao\").show(20)"
   ]
  },
  {
   "cell_type": "markdown",
   "id": "a5594a51",
   "metadata": {},
   "source": [
    "### Conclusão da Análise e Decisão de Tratamento\n",
    "\n",
    "**Análise da Amostra Aleatória:**\n",
    "A amostra aleatória exibida na célula anterior confirma que as quantidades fracionadas não estão restritas a categorias específicas de produtos, como itens vendidos por peso. Pelo contrário, elas aparecem em uma vasta gama de produtos que são vendidos em unidades inteiras.\n",
    "\n",
    "**Confirmação da Hipótese:**\n",
    "Isso fortalece a hipótese de que os valores fracionados são, na verdade, **ruído de ponto flutuante** (imprecisões do tipo `double`), e não representam vendas fracionadas legítimas. Por exemplo, um valor que deveria ser `5` é armazenado como `5.00000001`.\n",
    "\n",
    "**Ação Corretiva:**\n",
    "Para garantir a consistência e a precisão dos dados para a modelagem, a abordagem correta é converter a coluna `quantity` para o tipo `Integer`. Essa ação irá truncar a parte decimal irrelevante, limpando o ruído e garantindo que as quantidades de vendas sejam representadas como valores inteiros.\n",
    "\n",
    "A célula seguinte executará essa conversão."
   ]
  },
  {
   "cell_type": "code",
   "execution_count": 14,
   "id": "6b5f8b92",
   "metadata": {},
   "outputs": [
    {
     "name": "stdout",
     "output_type": "stream",
     "text": [
      "\n",
      "Schema do DataFrame final (após cast para inteiro):\n",
      "root\n",
      " |-- internal_store_id: string (nullable = true)\n",
      " |-- internal_product_id: string (nullable = true)\n",
      " |-- distributor_id: string (nullable = true)\n",
      " |-- transaction_date: date (nullable = true)\n",
      " |-- reference_date: date (nullable = true)\n",
      " |-- quantity: integer (nullable = true)\n",
      " |-- gross_value: double (nullable = true)\n",
      " |-- net_value: double (nullable = true)\n",
      " |-- gross_profit: double (nullable = true)\n",
      " |-- discount: double (nullable = true)\n",
      " |-- taxes: double (nullable = true)\n",
      " |-- categoria_produto: string (nullable = true)\n",
      " |-- descricao: string (nullable = true)\n",
      " |-- tipos: string (nullable = true)\n",
      " |-- label: string (nullable = true)\n",
      " |-- subcategoria: string (nullable = true)\n",
      " |-- marca: string (nullable = true)\n",
      " |-- fabricante: string (nullable = true)\n",
      " |-- premise: string (nullable = true)\n",
      " |-- categoria_pdv: string (nullable = true)\n",
      " |-- zipcode: integer (nullable = true)\n",
      "\n",
      "\n",
      "Estatísticas descritivas do DataFrame final:\n"
     ]
    },
    {
     "name": "stderr",
     "output_type": "stream",
     "text": [
      "[Stage 85:================================================>         (5 + 1) / 6]\r"
     ]
    },
    {
     "name": "stdout",
     "output_type": "stream",
     "text": [
      "+-------+-----------------+\n",
      "|summary|         quantity|\n",
      "+-------+-----------------+\n",
      "|  count|          6423880|\n",
      "|   mean|8.290080294152444|\n",
      "| stddev| 81.2568283392018|\n",
      "|    min|                0|\n",
      "|    max|            94230|\n",
      "+-------+-----------------+\n",
      "\n"
     ]
    },
    {
     "name": "stderr",
     "output_type": "stream",
     "text": [
      "                                                                                \r"
     ]
    }
   ],
   "source": [
    "from pyspark.sql.types import IntegerType\n",
    "# .withColumn() substitui a coluna existente pela nova versão convertida.\n",
    "df_vendas_final = df_vendas_reais.withColumn(\"quantity\", df_vendas_reais[\"quantity\"].cast(IntegerType()))\n",
    "\n",
    "# Agora, vamos verificar o schema e as estatísticas novamente para confirmar a mudança.\n",
    "print(\"\\nSchema do DataFrame final (após cast para inteiro):\")\n",
    "df_vendas_final.printSchema()\n",
    "\n",
    "print(\"\\nEstatísticas descritivas do DataFrame final:\")\n",
    "df_vendas_final.select(\"quantity\").describe().show()"
   ]
  },
  {
   "cell_type": "code",
   "execution_count": 15,
   "id": "34a5c9a9",
   "metadata": {},
   "outputs": [],
   "source": [
    "df_vendas_final_limpo = df_vendas_final.filter(col(\"quantity\") > 0)"
   ]
  },
  {
   "cell_type": "code",
   "execution_count": 16,
   "id": "41f85be8",
   "metadata": {},
   "outputs": [
    {
     "name": "stdout",
     "output_type": "stream",
     "text": [
      "Mostrando transações com quantidade menor que 2 (ou seja, quantidade = 1):\n"
     ]
    },
    {
     "name": "stderr",
     "output_type": "stream",
     "text": [
      "                                                                                \r"
     ]
    },
    {
     "name": "stdout",
     "output_type": "stream",
     "text": [
      "+-------------------+-------------------+--------------+----------------+--------------+--------+------------------+------------------+------------------+-------------------+-------------------+-----------------+--------------------+-----------------+------------+---------------+--------------------+--------------------+-----------+--------------+-------+\n",
      "|  internal_store_id|internal_product_id|distributor_id|transaction_date|reference_date|quantity|       gross_value|         net_value|      gross_profit|           discount|              taxes|categoria_produto|           descricao|            tipos|       label|   subcategoria|               marca|          fabricante|    premise| categoria_pdv|zipcode|\n",
      "+-------------------+-------------------+--------------+----------------+--------------+--------+------------------+------------------+------------------+-------------------+-------------------+-----------------+--------------------+-----------------+------------+---------------+--------------------+--------------------+-----------+--------------+-------+\n",
      "|7384367747233276219| 328903483604537190|             9|      2022-07-13|    2022-07-01|       1|            38.125|         37.890625|10.042625427246094|  3.950000047683716|           0.234375|          Package|BUD LIGHT CHELADA...|          Package|        Core|      Specialty|Bud Light Chelada...|AB Anheuser Busch...|Off Premise|Package/Liquor|  80905|\n",
      "|7762413312337359369|6614994347738381720|             4|      2022-02-18|    2022-02-01|       1|26.229999542236328|23.950241088867188| 6.550240993499756|                0.0| 2.2797579765319824|          Package|NB VOODOO RANGER ...|          Package|        Core|            IPA|New Belgium Voodo...|      NB New Belgium|Off Premise|   Convenience|  30096|\n",
      "|5339226423887032797|2126695985526201979|             5|      2022-10-06|    2022-10-01|       1| 42.79999923706055|42.619998931884766|12.772998809814453|  6.179999828338623|0.18000000715255737|          Package|10 BARREL CUCUMBE...|          Package|        Core|           Sour|10 Barrel Crush C...|       Tilray Brands|Off Premise|Package/Liquor|  80232|\n",
      "|5538851823321709722|6189453893821323891|             4|      2022-04-26|    2022-04-01|       1|19.743999481201172|16.704322814941406| 4.090322971343994|  1.850000023841858| 3.0396769046783447|          Package|BUSCH LIGHT 4/6/1...|          Package|        Core|          Lager|         Busch Light|AB Anheuser Busch...|Off Premise|   Convenience|  30043|\n",
      "|3055440461869670230|1938760505411922162|             4|      2022-09-11|    2022-09-01|       1|             147.0|             136.0| 60.81399917602539|                0.0|               11.0|            Draft|   BUD LIGHT 1/2 KEG|            Draft|        Core|Lager / Pilsner|           Bud Light|AB Anheuser Busch...| On Premise|  Mexican Rest|  30087|\n",
      "|1941130180040269548|4451855961536069898|             9|      2022-04-04|    2022-04-01|       1|              31.5|         31.265625| 8.260624885559082| 3.9000000953674316|           0.234375|          Package|  BUDWEISER 15/25 CN|          Package|        Core|          Lager|           Budweiser|AB Anheuser Busch...|Off Premise|   Convenience|  80118|\n",
      "|5264954619540741368|7118126768094669047|             5|      2022-04-14|    2022-04-01|       1|20.149999618530273|              20.0| 4.543000221252441|                3.5|0.15000000596046448|          Package|MICHELOB ULTRA 20...|          Package|        Core|          Lager|      Michelob Ultra|AB Anheuser Busch...| On Premise|           Bar|  80004|\n",
      "|3276179170055393809|4098058333001424920|             9|      2022-10-28|    2022-10-01|       1|23.725000381469727|23.545000076293945| 5.086999893188477|  3.950000047683716|0.18000000715255737|          Package|BUDWEISER 2/12/12 LN|          Package|        Core|          Lager|           Budweiser|AB Anheuser Busch...|Off Premise|   Convenience|  80134|\n",
      "|3091021743091218455|4451855961536069898|             5|      2022-09-19|    2022-09-01|       1|32.849998474121094|32.615623474121094| 10.72662353515625|                0.0|           0.234375|          Package|  BUDWEISER 15/25 CN|          Package|        Core|          Lager|           Budweiser|AB Anheuser Busch...|Off Premise|   Convenience|  80220|\n",
      "|8732425569704638802| 347520348779130794|             9|      2022-04-19|    2022-04-01|       1|25.200000762939453|25.020000457763672| 6.427368640899658|  2.299999952316284|0.18000000715255737|          Package|BUD LIGHT NEXT 2/...|          Package|        Core|          Lager|      Bud Light Next|AB Anheuser Busch...|Off Premise|  Super Center|  80920|\n",
      "|7025799242509249431|6614994347738381720|             4|      2022-10-13|    2022-10-01|       1|28.649999618530273|26.370241165161133| 7.280241012573242|                0.0| 2.2797579765319824|          Package|NB VOODOO RANGER ...|          Package|        Core|            IPA|New Belgium Voodo...|      NB New Belgium|Off Premise|   Convenience|  30701|\n",
      "|5562320693736387733| 462590651648123928|             4|      2022-05-17|    2022-05-01|       1|  20.8799991607666|  20.8799991607666| 4.129999160766602|               3.75|                0.0|      Non-Alcohol|C4 MIDNIGHT CHERR...|      Non Alcohol|        Core|         Energy|  C4 Midnight Cherry|           Nutrabolt|Off Premise|   Convenience|  30753|\n",
      "| 977866030640085189|1288112997726060694|             5|      2022-02-03|    2022-02-01|       1|              27.0| 26.81999969482422| 8.579999923706055|                0.0|0.18000000715255737|          Package| BUDWEISER 4/6/12 LN|          Package|        Core|          Lager|           Budweiser|AB Anheuser Busch...|Off Premise|       Grocery|  80241|\n",
      "|2453368883555736388| 145852603040678098|             5|      2022-04-01|    2022-04-01|       1|23.350000381469727|23.115625381469727| 4.777625560760498|  5.099999904632568|           0.234375|          Package|      BUSCH 15/25 CN|          Package|        Core|          Lager|               Busch|AB Anheuser Busch...|Off Premise|Package/Liquor|  80017|\n",
      "|6746379407450925261|9036639434778896273|             9|      2022-10-26|    2022-10-01|       1|32.025001525878906|31.797388076782227| 9.768387794494629| 2.1500000953674316|0.22761300206184387|          Package|STELLA ARTOIS 4/6...|          Package|Discontinued|          Lager|       Stella Artois|AB Anheuser Busch...|Off Premise|   Convenience|  80904|\n",
      "|7200116106667687476|2332258305086273987|             4|      2022-09-01|    2022-09-01|       1|26.649999618530273|24.370241165161133| 8.230240821838379|                0.0| 2.2797579765319824|          Package|YUENGLING LAGER 4...|          Package|        Core|          Lager|     Yuengling Lager|           Yuengling|Off Premise|  Super Center|  30047|\n",
      "|7132161903182301526|3435249648591979862|             4|      2022-08-23|    2022-08-01|       1|              18.0|              18.0|3.7200000286102295|0.47999998927116394|                0.0|      Non-Alcohol|NESQUIK CHOCOLATE...|      Non Alcohol|        Core| Dairy beverage|   Nesquik Chocolate|              Nestle|Off Premise|   Convenience|  30045|\n",
      "|4603935898916442258|3371701102715312626|             4|      2022-06-03|    2022-06-01|       1|            18.625|            18.625|             4.125|               3.75|                0.0|      Non-Alcohol|GHOST ENERGY WARH...|      Non Alcohol|        Core|         Energy|Ghost Energy Warh...|AB Anheuser Busch...|Off Premise|   Convenience|  30143|\n",
      "|5493883218207208076|2811937796518769916|            11|      2022-12-01|    2022-12-01|       1|  45.9900016784668|  45.5380744934082|1.4164074659347534| 1.5499999523162842|0.45192599296569824|Distilled Spirits|BLANTON'S BOURBON...|Distilled Spirits|   Allocated|Bourbon Whiskey|Blanton Kentucky ...|     Sazerac Spirits|Off Premise|Package/Liquor|  80203|\n",
      "|4440977747777161208|1617864023275256842|             6|      2022-07-10|    2022-07-01|       1|29.299999237060547|29.119998931884766| 7.791998863220215| 3.0999999046325684|0.18000000715255737|          Package|BUD LIGHT SELTZER...|          Package|        Core|  Other Package|Bud Light Seltzer...|AB Anheuser Busch...|Off Premise|       Grocery|  80550|\n",
      "+-------------------+-------------------+--------------+----------------+--------------+--------+------------------+------------------+------------------+-------------------+-------------------+-----------------+--------------------+-----------------+------------+---------------+--------------------+--------------------+-----------+--------------+-------+\n",
      "only showing top 20 rows\n"
     ]
    },
    {
     "name": "stderr",
     "output_type": "stream",
     "text": [
      "[Stage 94:================================================>         (5 + 1) / 6]\r"
     ]
    },
    {
     "name": "stdout",
     "output_type": "stream",
     "text": [
      "Número de transações com apenas 1 item: 2888148\n"
     ]
    },
    {
     "name": "stderr",
     "output_type": "stream",
     "text": [
      "                                                                                \r"
     ]
    }
   ],
   "source": [
    "print(\"Mostrando transações com quantidade menor que 2 (ou seja, quantidade = 1):\")\n",
    "\n",
    "# Filtra o DataFrame para manter apenas as linhas onde a coluna 'quantity' é menor que 2\n",
    "df_vendas_pequenas = df_vendas_final_limpo.filter(df_vendas_final_limpo[\"quantity\"] < 2)\n",
    "\n",
    "# Mostra as primeiras 20 linhas do resultado\n",
    "df_vendas_pequenas.show()\n",
    "\n",
    "# Se quiser saber quantas transações são de apenas 1 item:\n",
    "print(f\"Número de transações com apenas 1 item: {df_vendas_pequenas.count()}\")\n",
    "\n"
   ]
  },
  {
   "cell_type": "markdown",
   "id": "bb5f5c3d",
   "metadata": {},
   "source": [
    "### Investigação e Remoção do Outlier Extremo (`quantity` = 94.230)\n",
    "\n",
    "**Contexto:**\n",
    "A análise estatística final no DataFrame `df_vendas_final_limpo` (realizada na célula 26) revelou um valor máximo (`max`) de **94.230** para a coluna `quantity`. Este valor é um outlier extremo e distorce completamente a escala da variável, considerando que:\n",
    "-   A **média** de itens por transação é de aproximadamente **8**.\n",
    "-   **75%** de todas as transações envolvem **6 itens ou menos**.\n",
    "\n",
    "Uma única transação de mais de 94 mil unidades não representa um comportamento de compra de varejo típico. É muito provável que seja um registro de outra natureza, como uma venda B2B (atacado), uma transferência de estoque entre um centro de distribuição e uma loja, ou simplesmente um erro de entrada de dados.\n",
    "\n",
    "**Ação Proposta:**\n",
    "Para continuar a análise focada no comportamento do consumidor final, é prudente remover essa transação anômala. Essa remoção nos permitirá reavaliar as estatísticas descritivas e ter uma visão mais clara da distribuição das vendas de varejo, que constituem a esmagadora maioria dos nossos dados.\n",
    "\n",
    "A célula seguinte irá filtrar o DataFrame para excluir essa única linha e, em seguida, recalcular as estatísticas para que possamos entender o impacto dessa limpeza."
   ]
  },
  {
   "cell_type": "code",
   "execution_count": 17,
   "id": "6a08e214",
   "metadata": {},
   "outputs": [
    {
     "name": "stderr",
     "output_type": "stream",
     "text": [
      "                                                                                \r"
     ]
    },
    {
     "name": "stdout",
     "output_type": "stream",
     "text": [
      "Tamanho do DataFrame após remover a anomalia: 6407822\n"
     ]
    },
    {
     "name": "stderr",
     "output_type": "stream",
     "text": [
      "[Stage 104:===============================================>         (5 + 1) / 6]\r"
     ]
    },
    {
     "name": "stdout",
     "output_type": "stream",
     "text": [
      "+-------+-----------------+\n",
      "|summary|         quantity|\n",
      "+-------+-----------------+\n",
      "|  count|          6407822|\n",
      "|   mean|8.296149768205172|\n",
      "| stddev|72.34358197762367|\n",
      "|    min|                1|\n",
      "|    max|            32424|\n",
      "+-------+-----------------+\n",
      "\n"
     ]
    },
    {
     "name": "stderr",
     "output_type": "stream",
     "text": [
      "                                                                                \r"
     ]
    }
   ],
   "source": [
    "df_sem_anomalia = df_vendas_final_limpo.filter(col(\"quantity\")!= 94230)\n",
    "print(f\"Tamanho do DataFrame após remover a anomalia: {df_sem_anomalia.count()}\")\n",
    "df_sem_anomalia.select(\"quantity\").describe().show()"
   ]
  },
  {
   "cell_type": "code",
   "execution_count": 18,
   "id": "b83a0a11",
   "metadata": {},
   "outputs": [
    {
     "name": "stdout",
     "output_type": "stream",
     "text": [
      "Analisando os percentis da coluna 'quantity' com mais detalhes (sem a anomalia):\n"
     ]
    },
    {
     "name": "stderr",
     "output_type": "stream",
     "text": [
      "[Stage 109:===============================================>         (5 + 1) / 6]\r"
     ]
    },
    {
     "name": "stdout",
     "output_type": "stream",
     "text": [
      "Percentil 98.5%: 89.0\n",
      "Percentil 99.5%: 32424.0\n",
      "Percentil 99.9%: 32424.0\n"
     ]
    },
    {
     "name": "stderr",
     "output_type": "stream",
     "text": [
      "                                                                                \r"
     ]
    }
   ],
   "source": [
    "# Usando o DataFrame que não tem a anomalia de 94230\n",
    "# df_sem_anomalia = df_vendas_final_limpo.filter(col(\"quantity\")!= 94230)\n",
    "\n",
    "print(\"Analisando os percentis da coluna 'quantity' com mais detalhes (sem a anomalia):\")\n",
    "\n",
    "# Pedimos pontos bem no topo da distribuição: 98.5%, 99.5%, 99.9%\n",
    "percentis_finais = df_sem_anomalia.approxQuantile(\n",
    "    \"quantity\", [0.985, 0.995, 0.999], 0.01\n",
    ")\n",
    "\n",
    "print(f\"Percentil 98.5%: {percentis_finais[0]}\")\n",
    "print(f\"Percentil 99.5%: {percentis_finais[1]}\")\n",
    "print(f\"Percentil 99.9%: {percentis_finais[2]}\")"
   ]
  },
  {
   "cell_type": "code",
   "execution_count": 19,
   "id": "5760ecfd",
   "metadata": {},
   "outputs": [
    {
     "name": "stdout",
     "output_type": "stream",
     "text": [
      "Removendo a transação com quantidade = 32424...\n"
     ]
    },
    {
     "name": "stderr",
     "output_type": "stream",
     "text": [
      "                                                                                \r"
     ]
    },
    {
     "name": "stdout",
     "output_type": "stream",
     "text": [
      "Número de transações no DataFrame original (sem 94230): 6407822\n"
     ]
    },
    {
     "name": "stderr",
     "output_type": "stream",
     "text": [
      "                                                                                \r"
     ]
    },
    {
     "name": "stdout",
     "output_type": "stream",
     "text": [
      "Número de transações após remover o 32424: 6407821\n",
      "\n",
      "Estatísticas descritivas após remover o segundo outlier:\n"
     ]
    },
    {
     "name": "stderr",
     "output_type": "stream",
     "text": [
      "[Stage 123:===============================================>         (5 + 1) / 6]\r"
     ]
    },
    {
     "name": "stdout",
     "output_type": "stream",
     "text": [
      "+-------+-----------------+\n",
      "|summary|         quantity|\n",
      "+-------+-----------------+\n",
      "|  count|          6407821|\n",
      "|   mean|8.291090996455738|\n",
      "| stddev|71.20120063626807|\n",
      "|    min|                1|\n",
      "|    max|            32070|\n",
      "+-------+-----------------+\n",
      "\n"
     ]
    },
    {
     "name": "stderr",
     "output_type": "stream",
     "text": [
      "                                                                                \r"
     ]
    }
   ],
   "source": [
    "from pyspark.sql.functions import col\n",
    "\n",
    "# Começamos com o DataFrame que já não tem a primeira anomalia\n",
    "# df_sem_anomalia = df_vendas_final_limpo.filter(col(\"quantity\")!= 94230)\n",
    "\n",
    "print(\"Removendo a transação com quantidade = 32424...\")\n",
    "\n",
    "# Filtra o DataFrame para remover a linha onde a quantidade é 32424\n",
    "df_varejo_real = df_sem_anomalia.filter(col(\"quantity\")!= 32424)\n",
    "\n",
    "print(f\"Número de transações no DataFrame original (sem 94230): {df_sem_anomalia.count()}\")\n",
    "print(f\"Número de transações após remover o 32424: {df_varejo_real.count()}\")\n",
    "\n",
    "\n",
    "# Agora, vamos rodar as estatísticas descritivas novamente neste DataFrame mais limpo\n",
    "print(\"\\nEstatísticas descritivas após remover o segundo outlier:\")\n",
    "df_varejo_real.select(\"quantity\").describe().show()"
   ]
  },
  {
   "cell_type": "markdown",
   "id": "96ae22f7",
   "metadata": {},
   "source": [
    "#### Estratégia de Tratamento de Outliers: Da Remoção Manual ao Capping\n",
    "\n",
    "A remoção manual de outliers, um a um, como foi feito nas células anteriores, se mostrou um processo reativo e pouco eficiente. A cada remoção, um novo valor máximo extremo surgia, indicando que o dataset possui uma \"cauda longa\" de transações de altíssimo volume que não representam o comportamento de compra do consumidor final.\n",
    "\n",
    "Para tratar esse problema de forma sistemática e robusta, adotaremos uma técnica chamada **capping** (ou \"limitação de teto\").\n",
    "\n",
    "\n",
    "#### Por que usar Capping em vez de Remover?\n",
    "\n",
    "-   **Preserva a Informação:** Em vez de descartar a transação inteira, o capping mantém o registro, mas neutraliza o efeito distorcivo do valor extremo. Ele preserva o sinal de que aquela foi uma \"venda de grande volume\".\n",
    "-   **Protege o Modelo:** Impede que valores raros e extremos desequilibrem as métricas estatísticas (como média e desvio padrão) e, mais importante, evita que o modelo de machine learning seja enviesado por esses pontos anômalos.\n",
    "\n",
    "A análise de percentis realizada anteriormente nos fornecerá um limite data-driven para definir um teto de quantidade razoável, separando as vendas de varejo (mesmo as de alto volume) de eventos logísticos ou de atacado."
   ]
  },
  {
   "cell_type": "code",
   "execution_count": 20,
   "id": "3be5cc51",
   "metadata": {},
   "outputs": [
    {
     "name": "stdout",
     "output_type": "stream",
     "text": [
      "Número de transações com quantidade acima de 89.0: 84587\n"
     ]
    }
   ],
   "source": [
    "from pyspark.sql.functions import col\n",
    "\n",
    "# Definir o limite de quantidade que queremos verificar\n",
    "limite = 89.0\n",
    "\n",
    "# Filtrar o DataFrame para encontrar transações com quantidade > 250 e contá-las\n",
    "contagem = df_sem_anomalia.filter(col(\"quantity\") > limite).count()\n",
    "\n",
    "print(f\"Número de transações com quantidade acima de {limite}: {contagem}\")"
   ]
  },
  {
   "cell_type": "code",
   "execution_count": 21,
   "id": "21a0d1d0",
   "metadata": {},
   "outputs": [
    {
     "name": "stdout",
     "output_type": "stream",
     "text": [
      "\n",
      "Análise finalizada. Aplicando um teto de 89.0 na coluna 'quantity'...\n",
      "\n",
      "Estatísticas descritivas finais após a remoção dos outliers e capping:\n"
     ]
    },
    {
     "name": "stderr",
     "output_type": "stream",
     "text": [
      "[Stage 133:===============================================>         (5 + 1) / 6]\r"
     ]
    },
    {
     "name": "stdout",
     "output_type": "stream",
     "text": [
      "+-------+------------------+\n",
      "|summary|  quantity_tratada|\n",
      "+-------+------------------+\n",
      "|  count|           6407821|\n",
      "|   mean| 5.399676114548144|\n",
      "| stddev|12.572682686033117|\n",
      "|    min|               1.0|\n",
      "|    max|              89.0|\n",
      "+-------+------------------+\n",
      "\n"
     ]
    },
    {
     "name": "stderr",
     "output_type": "stream",
     "text": [
      "                                                                                \r"
     ]
    }
   ],
   "source": [
    "from pyspark.sql.functions import when, col\n",
    "\n",
    "# df_varejo_real é o DataFrame que você acabou de criar, já sem os dois maiores outliers\n",
    "\n",
    "# Definimos nosso teto com base na análise de percentis do varejo real\n",
    "teto_quantidade = 89.0\n",
    "print(f\"\\nAnálise finalizada. Aplicando um teto de {teto_quantidade} na coluna 'quantity'...\")\n",
    "\n",
    "# Aplicamos o capping para tratar todos os outliers de alto volume restantes\n",
    "df_tratado = df_varejo_real.withColumn(\n",
    "    \"quantity_tratada\",\n",
    "    when(col(\"quantity\") > teto_quantidade, teto_quantidade)\n",
    " .otherwise(col(\"quantity\"))\n",
    ")\n",
    "\n",
    "# Verificamos as estatísticas finais para confirmar\n",
    "print(\"\\nEstatísticas descritivas finais após a remoção dos outliers e capping:\")\n",
    "df_tratado.select(\"quantity_tratada\").describe().show()"
   ]
  },
  {
   "cell_type": "code",
   "execution_count": 22,
   "id": "13d06014",
   "metadata": {},
   "outputs": [],
   "source": [
    "#TODO mudar tamanho dos titulos e verificar no vscode"
   ]
  },
  {
   "cell_type": "markdown",
   "id": "c3449c60",
   "metadata": {},
   "source": [
    "Análise das Dimensões Principais: PDV e Produto\n",
    "Agora, vamos entender os atores principais: os pontos de venda e os produtos.\n",
    "\n",
    "pergunta: quais são os produtos e PDVs mais vendidos? A venda está concentrada em poucos itens/lojas?\n",
    "\n",
    "Por que é útil? É provável que a \"Lei de Pareto\" (80/20) se aplique: uma minoria de produtos/PDVs é responsável pela maioria das vendas. Identificá-los é crucial. Talvez os produtos \"campeões de venda\" tenham um padrão de venda diferente dos produtos de \"cauda longa\"."
   ]
  },
  {
   "cell_type": "code",
   "execution_count": 23,
   "id": "ffc4bb2b",
   "metadata": {},
   "outputs": [
    {
     "name": "stderr",
     "output_type": "stream",
     "text": [
      "                                                                                \r"
     ]
    },
    {
     "name": "stdout",
     "output_type": "stream",
     "text": [
      "Número total de PDVs únicos: 14388\n"
     ]
    },
    {
     "name": "stderr",
     "output_type": "stream",
     "text": [
      "[Stage 146:===============================================>         (5 + 1) / 6]\r"
     ]
    },
    {
     "name": "stdout",
     "output_type": "stream",
     "text": [
      "Número total de produtos únicos: 6927\n"
     ]
    },
    {
     "name": "stderr",
     "output_type": "stream",
     "text": [
      "                                                                                \r"
     ]
    }
   ],
   "source": [
    "# Contar o número de PDVs (lojas) únicos\n",
    "num_pdvs = df_tratado.select(\"internal_store_id\").distinct().count()\n",
    "print(f\"Número total de PDVs únicos: {num_pdvs}\")\n",
    "\n",
    "# Contar o número de produtos (SKUs) únicos\n",
    "num_produtos = df_tratado.select(\"internal_product_id\").distinct().count()\n",
    "print(f\"Número total de produtos únicos: {num_produtos}\")"
   ]
  },
  {
   "cell_type": "markdown",
   "id": "0965e349",
   "metadata": {},
   "source": [
    "Insights sobre os Produtos (A Tabela \"Top 10 Produtos\")\n",
    "Domínio Absoluto de Cervejas: A lista é completamente dominada por algumas marcas de cerveja, principalmente BUD LIGHT, MICHELOB ULTRA e BUSCH LIGHT. Isso nos diz que o negócio principal gira em torno da venda de cervejas populares de grande volume.\n",
    "\n",
    "Concentração de Vendas (Princípio de Pareto): O produto número 1, BUD LIGHT 24/12 CN, vendeu quase 1 milhão de unidades, quase o dobro do segundo colocado. Isso é um exemplo clássico do Princípio de Pareto (ou regra 80/20): um número muito pequeno de produtos é responsável por uma fatia gigantesca do total de vendas.\n",
    "\n",
    "Importância das Embalagens: As descrições (24/12 CN, 30/12 CN, 15/16 ALM NR) indicam que os produtos mais vendidos são pacotes grandes (multi-packs). Isso sugere que o consumidor típico está comprando para estocar, e não para consumo imediato.\n",
    "\n",
    "Conclusão sobre os Produtos: Seu modelo de previsão precisa ser muito bom em prever a demanda para esses poucos produtos \"campeões\". Um erro na previsão da Bud Light tem um impacto muito maior no negócio do que um erro em um produto de nicho.\n",
    "\n",
    "Insights sobre os PDVs (A Tabela \"Top 10 PDVs\")\n",
    "Canal de Venda Principal: A descoberta mais importante aqui é que todos os 10 PDVs mais importantes pertencem à mesma categoria: Package/Liquor. Isso significa que o principal canal de vendas são as lojas de bebidas, onde os clientes compram para levar para casa (off-premise).\n",
    "\n",
    "Distribuição Mais Equilibrada: Diferente dos produtos, a venda nos PDVs é mais distribuída. A loja número 1 vendeu 66 mil unidades, enquanto a décima vendeu 52 mil. Não há uma única loja que domine as outras de forma tão esmagadora quanto a Bud Light domina os produtos.\n",
    "\n",
    "Consistência do Canal: A consistência na categoria dos PDVs mais importantes é uma pista valiosa. O comportamento de compra nessas lojas tende a ser semelhante, o que pode facilitar a modelagem.\n",
    "\n",
    "Conclusão sobre os PDVs: A feature categoria_pdv será extremamente importante para o seu modelo. Ele precisa aprender que lojas do tipo Package/Liquor têm um padrão de venda muito diferente de outros tipos de loja que possam existir no dataset (como lojas de conveniência, etc."
   ]
  },
  {
   "cell_type": "code",
   "execution_count": 24,
   "id": "7dd5015b",
   "metadata": {},
   "outputs": [
    {
     "name": "stdout",
     "output_type": "stream",
     "text": [
      "\n",
      "--- Top 10 Produtos por Quantidade Total Vendida ---\n"
     ]
    },
    {
     "name": "stderr",
     "output_type": "stream",
     "text": [
      "                                                                                \r"
     ]
    },
    {
     "name": "stdout",
     "output_type": "stream",
     "text": [
      "+-------------------+----------------------------+----------------+\n",
      "|internal_product_id|descricao                   |quantidade_total|\n",
      "+-------------------+----------------------------+----------------+\n",
      "|4040509988492387426|BUD LIGHT 24/12 CN          |983383.0        |\n",
      "|8352471677482341950|MICHELOB ULTRA 24/12 CN     |567709.0        |\n",
      "|3894706280449257667|BUSCH LIGHT 30/12 CN        |544663.0        |\n",
      "|500478784353013717 |BUD LIGHT 2/15/12 CN        |506546.0        |\n",
      "|3262679882836704514|BUD LIGHT 2/12/12 LN        |467895.0        |\n",
      "|1029370090212151375|MICHELOB ULTRA 2/12/12 CN   |457065.0        |\n",
      "|1860061817666925715|BUDWEISER 24/12 CN          |441555.0        |\n",
      "|8899583048247637290|BUD LIGHT 15/16 ALM NR      |418435.0        |\n",
      "|1657665165780983454|BUD LIGHT 24/12 LNNR DISPLAY|416108.0        |\n",
      "|1152772499033912340|BUD LIGHT 2/12/12 CN        |370200.0        |\n",
      "+-------------------+----------------------------+----------------+\n",
      "only showing top 10 rows\n",
      "\n",
      "--- Top 10 PDVs por Quantidade Total Vendida ---\n"
     ]
    },
    {
     "name": "stderr",
     "output_type": "stream",
     "text": [
      "[Stage 159:===============================================>         (5 + 1) / 6]\r"
     ]
    },
    {
     "name": "stdout",
     "output_type": "stream",
     "text": [
      "+-------------------+--------------+----------------+\n",
      "|internal_store_id  |categoria_pdv |quantidade_total|\n",
      "+-------------------+--------------+----------------+\n",
      "|4374038751643985193|Package/Liquor|66214.0         |\n",
      "|7195906766187577140|Package/Liquor|65634.0         |\n",
      "|3025867614395044464|Package/Liquor|65608.0         |\n",
      "|6491855528940268514|Package/Liquor|65335.0         |\n",
      "|6337402841339348330|Package/Liquor|63786.0         |\n",
      "|8723723113467008071|Package/Liquor|59879.0         |\n",
      "|5130630496972372280|Package/Liquor|56905.0         |\n",
      "|8294871217390043140|Package/Liquor|55093.0         |\n",
      "|5420232849866774947|Package/Liquor|53393.0         |\n",
      "|338592148842312906 |Package/Liquor|52009.0         |\n",
      "+-------------------+--------------+----------------+\n",
      "only showing top 10 rows\n"
     ]
    },
    {
     "name": "stderr",
     "output_type": "stream",
     "text": [
      "                                                                                \r"
     ]
    }
   ],
   "source": [
    "from pyspark.sql.functions import sum, col\n",
    "\n",
    "# Top 10 produtos por quantidade total vendida\n",
    "print(\"\\n--- Top 10 Produtos por Quantidade Total Vendida ---\")\n",
    "df_tratado.groupBy(\"internal_product_id\", \"descricao\") \\\n",
    " .agg(sum(\"quantity_tratada\").alias(\"quantidade_total\")) \\\n",
    " .orderBy(col(\"quantidade_total\").desc()) \\\n",
    " .show(10, truncate=False)\n",
    "\n",
    "# Top 10 PDVs por quantidade total vendida\n",
    "print(\"\\n--- Top 10 PDVs por Quantidade Total Vendida ---\")\n",
    "df_tratado.groupBy(\"internal_store_id\", \"categoria_pdv\") \\\n",
    " .agg(sum(\"quantity_tratada\").alias(\"quantidade_total\")) \\\n",
    " .orderBy(col(\"quantidade_total\").desc()) \\\n",
    " .show(10, truncate=False)"
   ]
  },
  {
   "cell_type": "code",
   "execution_count": 25,
   "id": "3c759ffc",
   "metadata": {},
   "outputs": [
    {
     "name": "stdout",
     "output_type": "stream",
     "text": [
      "Salvando o DataFrame tratado em um arquivo Parquet...\n"
     ]
    },
    {
     "name": "stderr",
     "output_type": "stream",
     "text": [
      "                                                                                \r"
     ]
    },
    {
     "name": "stdout",
     "output_type": "stream",
     "text": [
      "DataFrame salvo com sucesso!\n"
     ]
    }
   ],
   "source": [
    "print(\"Salvando o DataFrame tratado em um arquivo Parquet...\")\n",
    "\n",
    "df_tratado.write.mode(\"overwrite\").parquet(\"dados_processados/dados_tratados.parquet\")\n",
    "\n",
    "print(\"DataFrame salvo com sucesso!\")"
   ]
  }
 ],
 "metadata": {
  "kernelspec": {
   "display_name": "Python 3 (ipykernel)",
   "language": "python",
   "name": "python3"
  },
  "language_info": {
   "codemirror_mode": {
    "name": "ipython",
    "version": 3
   },
   "file_extension": ".py",
   "mimetype": "text/x-python",
   "name": "python",
   "nbconvert_exporter": "python",
   "pygments_lexer": "ipython3",
   "version": "3.12.3"
  }
 },
 "nbformat": 4,
 "nbformat_minor": 5
}
